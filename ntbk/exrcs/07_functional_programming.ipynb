{
 "cells": [
  {
   "cell_type": "markdown",
   "id": "7549309e-07d9-4f68-b784-eab00f08da90",
   "metadata": {},
   "source": [
    "# Functional programming exercises"
   ]
  },
  {
   "cell_type": "markdown",
   "id": "3db47b6a-b7be-47cb-b797-11faf0bbedad",
   "metadata": {},
   "source": [
    "## Exercises: map, filter, zip, reduce\n",
    "\n",
    "```python\n",
    "from functools import reduce\n",
    "\n",
    "#1 Capitalize all of the pet names and print the list\n",
    "my_pets = ['sisi', 'bibi', 'titi', 'carla']\n",
    "\n",
    "\n",
    "#2 Zip the 2 lists into a list of tuples, but sort the numbers from lowest to highest.\n",
    "my_strings = ['a', 'b', 'c', 'd', 'e']\n",
    "my_numbers = [5,4,3,2,1]\n",
    "\n",
    "\n",
    "#3 Filter the scores that pass over 50%\n",
    "scores = [73, 20, 65, 19, 76, 100, 88]\n",
    "\n",
    "\n",
    "#4 Combine all of the numbers that are in a list on this file using reduce (my_numbers and scores). What is the total?\n",
    "```"
   ]
  },
  {
   "cell_type": "code",
   "execution_count": 21,
   "id": "165dbafd-55fd-4dcf-9b5a-8ebba6b37819",
   "metadata": {},
   "outputs": [
    {
     "name": "stdout",
     "output_type": "stream",
     "text": [
      "['SISI', 'BIBI', 'TITI', 'CARLA']\n"
     ]
    }
   ],
   "source": [
    "# 1\n",
    "my_pets = ['sisi', 'bibi', 'titi', 'carla']\n",
    "print(list(map(str.upper, my_pets)))"
   ]
  },
  {
   "cell_type": "code",
   "execution_count": 15,
   "id": "54cca7ce-e18b-4131-9dff-b0b50d218341",
   "metadata": {},
   "outputs": [
    {
     "name": "stdout",
     "output_type": "stream",
     "text": [
      "[('a', 1), ('b', 2), ('c', 3), ('d', 4), ('e', 5)]\n"
     ]
    }
   ],
   "source": [
    "# 2\n",
    "my_strings = ['a', 'b', 'c', 'd', 'e']\n",
    "my_numbers = [5, 4, 3, 2, 1]\n",
    "print(list(zip(my_strings, sorted(my_numbers))))"
   ]
  },
  {
   "cell_type": "code",
   "execution_count": 16,
   "id": "506d60ad-dadb-4a0f-82d4-fb50d537deca",
   "metadata": {},
   "outputs": [
    {
     "name": "stdout",
     "output_type": "stream",
     "text": [
      "[73, 65, 76, 100, 88]\n"
     ]
    }
   ],
   "source": [
    "# 3\n",
    "scores = [73, 20, 65, 19, 76, 100, 88]\n",
    "print(list(filter(lambda x: x > 50, scores)))"
   ]
  },
  {
   "cell_type": "code",
   "execution_count": 22,
   "id": "0199ee0a-1cc1-4583-b753-4fde4cb4ce5c",
   "metadata": {},
   "outputs": [
    {
     "name": "stdout",
     "output_type": "stream",
     "text": [
      "456\n"
     ]
    }
   ],
   "source": [
    "# 4\n",
    "from functools import reduce\n",
    "\n",
    "print(reduce(lambda x, y: x + y, my_numbers + scores))"
   ]
  },
  {
   "cell_type": "markdown",
   "id": "343f1843-eb98-4a8d-854c-f2a4b8ec8263",
   "metadata": {},
   "source": [
    "## Exercise: Lambda Expressions\n",
    "\n",
    "Given a list of integers, return another list that squares each element."
   ]
  },
  {
   "cell_type": "code",
   "execution_count": 26,
   "id": "3660059d-2561-44eb-a756-1cf1e5d73fb4",
   "metadata": {},
   "outputs": [
    {
     "name": "stdout",
     "output_type": "stream",
     "text": [
      "[25, 16, 9]\n"
     ]
    }
   ],
   "source": [
    "my_list = list(range(5, 2, -1))\n",
    "print(list(map(lambda x: pow(x, 2), my_list)))"
   ]
  },
  {
   "cell_type": "markdown",
   "id": "4077d131-bb75-473c-adff-657a1298ba6f",
   "metadata": {},
   "source": [
    "Given a list of tuples, use a lambda expression to sort the list in ascending order by the value of the second element in each tuple."
   ]
  },
  {
   "cell_type": "code",
   "execution_count": 34,
   "id": "889ff74f-5373-42c0-aea2-85cc8c36057e",
   "metadata": {},
   "outputs": [
    {
     "name": "stdout",
     "output_type": "stream",
     "text": [
      "[(10, -1), (0, 2), (4, 3), (9, 9)]\n"
     ]
    }
   ],
   "source": [
    "my_tuple = [(0, 2), (4, 3), (9, 9), (10, -1)]\n",
    "my_tuple.sort(key=lambda x: x[1])\n",
    "print(my_tuple)"
   ]
  },
  {
   "cell_type": "code",
   "execution_count": null,
   "id": "a1d620b9-842f-4409-a690-4f9bc6319462",
   "metadata": {},
   "outputs": [],
   "source": []
  }
 ],
 "metadata": {
  "kernelspec": {
   "display_name": "Python 3 (ipykernel)",
   "language": "python",
   "name": "python3"
  },
  "language_info": {
   "codemirror_mode": {
    "name": "ipython",
    "version": 3
   },
   "file_extension": ".py",
   "mimetype": "text/x-python",
   "name": "python",
   "nbconvert_exporter": "python",
   "pygments_lexer": "ipython3",
   "version": "3.9.7"
  }
 },
 "nbformat": 4,
 "nbformat_minor": 5
}
