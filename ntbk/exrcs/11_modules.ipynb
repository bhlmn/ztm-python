{
 "cells": [
  {
   "cell_type": "markdown",
   "source": [
    "# Modules exercises\n",
    "\n",
    "## Exercise: Guessing Game\n",
    "\n",
    "Create a game that takes lower and upper integer bounds as inputs. The user's job will be to guess the correct number between those bounds.\n",
    "\n",
    "For my solution, see [../../prjct/guessing_game](../../prjct/guessing_game)."
   ],
   "metadata": {}
  },
  {
   "cell_type": "markdown",
   "source": [],
   "metadata": {}
  }
 ],
 "metadata": {
  "orig_nbformat": 4,
  "language_info": {
   "name": "python"
  }
 },
 "nbformat": 4,
 "nbformat_minor": 2
}