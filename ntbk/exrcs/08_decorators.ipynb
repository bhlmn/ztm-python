{
 "cells": [
  {
   "cell_type": "markdown",
   "id": "7df57af4-5a85-4e8d-8437-9c86da2b5f6e",
   "metadata": {},
   "source": [
    "# Decorators exercises\n",
    "\n",
    "## Exercise: @authenticated\n",
    "\n",
    "```python\n",
    "# Create an @authenticated decorator that only allows the function to run is user1 has 'valid' set to True:\n",
    "user1 = {\n",
    "    'name': 'Sorna',\n",
    "    'valid': True #changing this will either run or not run the message_friends function.\n",
    "}\n",
    "\n",
    "def authenticated(fn):\n",
    "  # code here\n",
    "\n",
    "@authenticated\n",
    "def message_friends(user):\n",
    "    print('message has been sent')\n",
    "\n",
    "message_friends(user1)\n",
    "```"
   ]
  },
  {
   "cell_type": "code",
   "execution_count": 11,
   "id": "deb9a899-9d79-4d73-9f0f-fa9d9c095181",
   "metadata": {},
   "outputs": [
    {
     "name": "stdout",
     "output_type": "stream",
     "text": [
      "Sorna sent a message.\n"
     ]
    }
   ],
   "source": [
    "def authenticated(fn):\n",
    "    def wrapper(*args, **kwargs):\n",
    "        for arg in args:\n",
    "            if arg.get('valid'):\n",
    "                return fn(*args, **kwargs)\n",
    "    return wrapper\n",
    "\n",
    "user1 = {\n",
    "    'name': 'Sorna',\n",
    "    'valid': True \n",
    "}\n",
    "\n",
    "user2 = {\n",
    "    'name': 'Gretchen',\n",
    "    'valid': False \n",
    "}\n",
    "\n",
    "@authenticated\n",
    "def message_friends(user):\n",
    "    print(f'{user.get(\"name\")} sent a message.')\n",
    "\n",
    "message_friends(user1)"
   ]
  },
  {
   "cell_type": "code",
   "execution_count": 12,
   "id": "fedda7df-e1da-47a8-ada2-c29d06e365b7",
   "metadata": {},
   "outputs": [],
   "source": [
    "message_friends(user2)"
   ]
  },
  {
   "cell_type": "code",
   "execution_count": null,
   "id": "fb26cdc0-8440-427c-93d0-6acad3013387",
   "metadata": {},
   "outputs": [],
   "source": []
  }
 ],
 "metadata": {
  "kernelspec": {
   "display_name": "Python 3 (ipykernel)",
   "language": "python",
   "name": "python3"
  },
  "language_info": {
   "codemirror_mode": {
    "name": "ipython",
    "version": 3
   },
   "file_extension": ".py",
   "mimetype": "text/x-python",
   "name": "python",
   "nbconvert_exporter": "python",
   "pygments_lexer": "ipython3",
   "version": "3.9.7"
  }
 },
 "nbformat": 4,
 "nbformat_minor": 5
}
