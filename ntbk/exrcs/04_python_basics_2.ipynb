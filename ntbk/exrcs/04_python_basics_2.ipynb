{
 "cells": [
  {
   "cell_type": "markdown",
   "id": "b292b43e-ebbb-4e38-993d-115d5c2e9389",
   "metadata": {},
   "source": [
    "# Python basics 2 exercises"
   ]
  },
  {
   "cell_type": "markdown",
   "id": "69a98800-efd4-494e-a233-211f641b1665",
   "metadata": {},
   "source": [
    "## Exercise: Tricky Counter\n",
    "Take a list of integers and sum their values."
   ]
  },
  {
   "cell_type": "markdown",
   "id": "9a7bee50-8c04-429c-8259-d332434a966f",
   "metadata": {},
   "source": [
    "My submission."
   ]
  },
  {
   "cell_type": "code",
   "execution_count": 1,
   "id": "92de516f-d59a-4bfa-b9b5-a6e3f98084a2",
   "metadata": {},
   "outputs": [],
   "source": [
    "my_list = [1, 2, 3, 4, 5, 6, 7, 8, 9, 10] # or, list(range(1, 11))"
   ]
  },
  {
   "cell_type": "code",
   "execution_count": 7,
   "id": "1370aab0-cb6c-4211-b964-45a355982f27",
   "metadata": {},
   "outputs": [
    {
     "data": {
      "text/plain": [
       "55"
      ]
     },
     "execution_count": 7,
     "metadata": {},
     "output_type": "execute_result"
    }
   ],
   "source": [
    "sum(my_list)"
   ]
  },
  {
   "cell_type": "markdown",
   "id": "46979460-3f40-458b-b612-2bdfb6586492",
   "metadata": {},
   "source": [
    "Andrei's solution."
   ]
  },
  {
   "cell_type": "code",
   "execution_count": 8,
   "id": "338b566b-3cc6-438a-b497-c744a36a940f",
   "metadata": {},
   "outputs": [
    {
     "data": {
      "text/plain": [
       "55"
      ]
     },
     "execution_count": 8,
     "metadata": {},
     "output_type": "execute_result"
    }
   ],
   "source": [
    "counter = 0\n",
    "for item in my_list:\n",
    "    counter += item\n",
    "counter"
   ]
  },
  {
   "cell_type": "code",
   "execution_count": null,
   "id": "e1892782-9a00-4e51-8e65-490da45ca32d",
   "metadata": {},
   "outputs": [],
   "source": []
  }
 ],
 "metadata": {
  "kernelspec": {
   "display_name": "Python 3 (ipykernel)",
   "language": "python",
   "name": "python3"
  },
  "language_info": {
   "codemirror_mode": {
    "name": "ipython",
    "version": 3
   },
   "file_extension": ".py",
   "mimetype": "text/x-python",
   "name": "python",
   "nbconvert_exporter": "python",
   "pygments_lexer": "ipython3",
   "version": "3.9.7"
  }
 },
 "nbformat": 4,
 "nbformat_minor": 5
}
