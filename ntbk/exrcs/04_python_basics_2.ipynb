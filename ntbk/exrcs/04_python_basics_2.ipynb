{
 "cells": [
  {
   "cell_type": "markdown",
   "id": "b292b43e-ebbb-4e38-993d-115d5c2e9389",
   "metadata": {},
   "source": [
    "# Python basics 2 exercises"
   ]
  },
  {
   "cell_type": "markdown",
   "id": "69a98800-efd4-494e-a233-211f641b1665",
   "metadata": {},
   "source": [
    "## Exercise: Tricky Counter\n",
    "Take a list of integers and sum their values."
   ]
  },
  {
   "cell_type": "markdown",
   "id": "9a7bee50-8c04-429c-8259-d332434a966f",
   "metadata": {},
   "source": [
    "My submission."
   ]
  },
  {
   "cell_type": "code",
   "execution_count": 1,
   "id": "92de516f-d59a-4bfa-b9b5-a6e3f98084a2",
   "metadata": {},
   "outputs": [],
   "source": [
    "my_list = [1, 2, 3, 4, 5, 6, 7, 8, 9, 10] # or, list(range(1, 11))"
   ]
  },
  {
   "cell_type": "code",
   "execution_count": 7,
   "id": "1370aab0-cb6c-4211-b964-45a355982f27",
   "metadata": {},
   "outputs": [
    {
     "data": {
      "text/plain": [
       "55"
      ]
     },
     "execution_count": 7,
     "metadata": {},
     "output_type": "execute_result"
    }
   ],
   "source": [
    "sum(my_list)"
   ]
  },
  {
   "cell_type": "markdown",
   "id": "46979460-3f40-458b-b612-2bdfb6586492",
   "metadata": {},
   "source": [
    "Andrei's solution."
   ]
  },
  {
   "cell_type": "code",
   "execution_count": 8,
   "id": "338b566b-3cc6-438a-b497-c744a36a940f",
   "metadata": {},
   "outputs": [
    {
     "data": {
      "text/plain": [
       "55"
      ]
     },
     "execution_count": 8,
     "metadata": {},
     "output_type": "execute_result"
    }
   ],
   "source": [
    "counter = 0\n",
    "for item in my_list:\n",
    "    counter += item\n",
    "counter"
   ]
  },
  {
   "cell_type": "markdown",
   "id": "c499da1d-d328-4617-b4af-e654a5ba9113",
   "metadata": {},
   "source": [
    "## Exercise: enumerate()\n",
    "\n",
    "Use enumerate to find the index where the value is 50 in a list that goes from 0 to 99."
   ]
  },
  {
   "cell_type": "code",
   "execution_count": 10,
   "id": "7cdd7e86-a272-44f5-b898-1ebe44e4c771",
   "metadata": {},
   "outputs": [
    {
     "name": "stdout",
     "output_type": "stream",
     "text": [
      "50\n"
     ]
    }
   ],
   "source": [
    "for i, char in enumerate(list(range(100))):\n",
    "    if char == 50:\n",
    "        print(i)"
   ]
  },
  {
   "cell_type": "markdown",
   "id": "a0fa1350-64c6-4966-8537-443a7ed7d197",
   "metadata": {},
   "source": [
    "## Exercise: Our First GUI\n",
    "\n",
    "Using the below array, use for loops to print an arrow in the output where zeroes represent blank spaces and 1s represent asterisks."
   ]
  },
  {
   "cell_type": "code",
   "execution_count": 17,
   "id": "8c9eac25-33f3-49b9-b225-29f54e60174d",
   "metadata": {},
   "outputs": [
    {
     "name": "stdout",
     "output_type": "stream",
     "text": [
      "   *   \n",
      "  ***  \n",
      " ***** \n",
      "*******\n",
      "   *   \n",
      "   *   \n"
     ]
    }
   ],
   "source": [
    "picture = [\n",
    "    [0, 0, 0, 1, 0, 0, 0], \n",
    "    [0, 0, 1, 1, 1, 0, 0], \n",
    "    [0, 1, 1, 1, 1, 1, 0], \n",
    "    [1, 1, 1, 1, 1, 1, 1], \n",
    "    [0, 0, 0, 1, 0, 0, 0], \n",
    "    [0, 0, 0, 1, 0, 0, 0]\n",
    "]\n",
    "\n",
    "for row in picture:\n",
    "    string = ''\n",
    "    for i in row:\n",
    "        if i == 0:\n",
    "            string += ' '\n",
    "        elif i == 1:\n",
    "            string += '*'\n",
    "    print(string)"
   ]
  },
  {
   "cell_type": "markdown",
   "id": "43baf407-b2c0-4ea5-afa9-f8727826baf0",
   "metadata": {},
   "source": [
    "Another way, learned something new about print!"
   ]
  },
  {
   "cell_type": "code",
   "execution_count": 18,
   "id": "5fd29e1e-1b32-4e11-a752-5f52916118a6",
   "metadata": {},
   "outputs": [
    {
     "name": "stdout",
     "output_type": "stream",
     "text": [
      "   *   \n",
      "  ***  \n",
      " ***** \n",
      "*******\n",
      "   *   \n",
      "   *   \n"
     ]
    }
   ],
   "source": [
    "for row in picture:\n",
    "    for i in row:\n",
    "        if i == 0:\n",
    "            print(' ', end = '')\n",
    "        elif i == 1:\n",
    "            print('*', end = '')\n",
    "    print('') # new line"
   ]
  },
  {
   "cell_type": "markdown",
   "id": "cc28e7d0-a97d-45df-b1f3-a6677e47fc66",
   "metadata": {},
   "source": [
    "Shortest way."
   ]
  },
  {
   "cell_type": "code",
   "execution_count": 30,
   "id": "6d930a65-af54-4df1-917d-61ef01e2f7e8",
   "metadata": {},
   "outputs": [
    {
     "name": "stdout",
     "output_type": "stream",
     "text": [
      "   *   \n",
      "  ***  \n",
      " ***** \n",
      "*******\n",
      "   *   \n",
      "   *   \n"
     ]
    }
   ],
   "source": [
    "for row in picture:\n",
    "    print(''.join([str(i) for i in row]).replace('0', ' ').replace('1', '*'))"
   ]
  },
  {
   "cell_type": "markdown",
   "id": "5c7b2c6c-50b0-418f-9159-116dee92b502",
   "metadata": {},
   "source": [
    "## Exercise: Find Duplicates\n",
    "\n",
    "Given a list, print the duplicate values within that list, without using sets."
   ]
  },
  {
   "cell_type": "code",
   "execution_count": 31,
   "id": "34fc36cc-6622-4afe-bf7b-59854cc872f6",
   "metadata": {},
   "outputs": [
    {
     "name": "stdout",
     "output_type": "stream",
     "text": [
      "['b', 'n']\n"
     ]
    }
   ],
   "source": [
    "some_list = ['a', 'b', 'c', 'b', 'd', 'm', 'n', 'n']\n",
    "contents = []\n",
    "duplicates = []\n",
    "for item in some_list:\n",
    "    if item not in contents:\n",
    "        contents.append(item)\n",
    "    elif item not in duplicates:\n",
    "        duplicates.append(item)\n",
    "    else:\n",
    "        pass\n",
    "print(duplicates)"
   ]
  },
  {
   "cell_type": "markdown",
   "id": "64319a0b-69ed-4e03-a17f-d98653ba3aaf",
   "metadata": {},
   "source": [
    "## Exercise: Tesla\n",
    "\n",
    "``` python\n",
    "\n",
    "age = input(\"What is your age?: \")\n",
    "\n",
    "if int(age) < 18:\n",
    "\tprint(\"Sorry, you are too young to drive this car. Powering off\")\n",
    "elif int(age) > 18:\n",
    "\tprint(\"Powering On. Enjoy the ride!\");\n",
    "elif int(age) == 18:\n",
    "\tprint(\"Congratulations on your first year of driving. Enjoy the ride!\")\n",
    "\n",
    "#1. Wrap the above code in a function called checkDriverAge(). Whenever you call this function, you will get prompted for age. \n",
    "# Notice the benefit in having checkDriverAge() instead of copying and pasting the function everytime?\n",
    "\n",
    "#2 Instead of using the input(). Now, make the checkDriverAge() function accept an argument of age, so that if you enter:\n",
    "#checkDriverAge(92);\n",
    "#it returns \"Powering On. Enjoy the ride!\"\n",
    "#also make it so that the default age is set to 0 if no argument is given.\n",
    "```"
   ]
  },
  {
   "cell_type": "code",
   "execution_count": 32,
   "id": "73f49e65-049d-4ab4-83c1-76cdeab1d361",
   "metadata": {},
   "outputs": [
    {
     "name": "stdin",
     "output_type": "stream",
     "text": [
      "What is your age?:  45\n"
     ]
    },
    {
     "name": "stdout",
     "output_type": "stream",
     "text": [
      "Powering On. Enjoy the ride!\n"
     ]
    }
   ],
   "source": [
    "# Part 1\n",
    "def checkDriverAge():\n",
    "    age = input('What is your age?: ')\n",
    "    \n",
    "    if int(age) < 18:\n",
    "        print(\"Sorry, you are too young to drive this car. Powering off\")\n",
    "    elif int(age) > 18:\n",
    "        print(\"Powering On. Enjoy the ride!\");\n",
    "    elif int(age) == 18:\n",
    "        print(\"Congratulations on your first year of driving. Enjoy the ride!\")\n",
    "\n",
    "checkDriverAge()"
   ]
  },
  {
   "cell_type": "code",
   "execution_count": 33,
   "id": "f0b6ae1f-c75c-453a-96bd-bc74bf0233e7",
   "metadata": {},
   "outputs": [
    {
     "name": "stdout",
     "output_type": "stream",
     "text": [
      "Powering On. Enjoy the ride!\n"
     ]
    }
   ],
   "source": [
    "# Part 2\n",
    "def checkDriverAge(age=0):\n",
    "    if age == 0:\n",
    "        age = input('What is your age?: ')\n",
    "    \n",
    "    if int(age) < 18:\n",
    "        print(\"Sorry, you are too young to drive this car. Powering off\")\n",
    "    elif int(age) > 18:\n",
    "        print(\"Powering On. Enjoy the ride!\");\n",
    "    elif int(age) == 18:\n",
    "        print(\"Congratulations on your first year of driving. Enjoy the ride!\")\n",
    "\n",
    "checkDriverAge(45)"
   ]
  },
  {
   "cell_type": "markdown",
   "id": "8c942efb-77b0-44f9-9207-1b3b3ead0918",
   "metadata": {},
   "source": [
    "## Exercise: Functions\n",
    "\n",
    "Create a function that takes a list a returns the highest even number within that list."
   ]
  },
  {
   "cell_type": "code",
   "execution_count": 37,
   "id": "cfe45401-307f-40b7-986a-6c1c6dc15ceb",
   "metadata": {},
   "outputs": [
    {
     "data": {
      "text/plain": [
       "10"
      ]
     },
     "execution_count": 37,
     "metadata": {},
     "output_type": "execute_result"
    }
   ],
   "source": [
    "def highest_even(li):\n",
    "    \n",
    "    # Create a list of only even values\n",
    "    evens = []\n",
    "    for i in li:\n",
    "        if i % 2 == 0:\n",
    "            evens.append(i)\n",
    "    \n",
    "    # Sort the list, and return the last value, which will be the highest\n",
    "    return sorted(evens)[-1] # could have done max(evens)\n",
    "\n",
    "my_list = [10, 2, 3, 4, 8, 11]\n",
    "highest_even(my_list)"
   ]
  },
  {
   "cell_type": "code",
   "execution_count": null,
   "id": "da06563c-a6e6-4e36-8966-4a338ed60258",
   "metadata": {},
   "outputs": [],
   "source": []
  }
 ],
 "metadata": {
  "kernelspec": {
   "display_name": "Python 3 (ipykernel)",
   "language": "python",
   "name": "python3"
  },
  "language_info": {
   "codemirror_mode": {
    "name": "ipython",
    "version": 3
   },
   "file_extension": ".py",
   "mimetype": "text/x-python",
   "name": "python",
   "nbconvert_exporter": "python",
   "pygments_lexer": "ipython3",
   "version": "3.9.7"
  }
 },
 "nbformat": 4,
 "nbformat_minor": 5
}
