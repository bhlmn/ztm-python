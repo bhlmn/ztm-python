{
 "cells": [
  {
   "cell_type": "markdown",
   "metadata": {},
   "source": [
    "# File I/O Exercises\n",
    "\n",
    "## Exercise: Translator\n",
    "\n",
    "Using a python package available from PyPI, build an application that can take text from a file and translate it."
   ]
  },
  {
   "cell_type": "code",
   "execution_count": 3,
   "metadata": {},
   "outputs": [
    {
     "name": "stdout",
     "output_type": "stream",
     "text": [
      "こんにちは、私の名前はブライアンです。\n"
     ]
    }
   ],
   "source": [
    "# pip3 install translate\n",
    "from translate import Translator\n",
    "translator = Translator(to_lang='ja')\n",
    "\n",
    "try:\n",
    "    with open('file_to_translate.txt', 'r') as file:\n",
    "        text = file.read()\n",
    "        print(translator.translate(text))\n",
    "except FileNotFoundError as e:\n",
    "    print('couldn\\'t find the file!')\n"
   ]
  }
 ],
 "metadata": {
  "interpreter": {
   "hash": "397704579725e15f5c7cb49fe5f0341eb7531c82d19f2c29d197e8b64ab5776b"
  },
  "kernelspec": {
   "display_name": "Python 3.9.7 64-bit",
   "name": "python3"
  },
  "language_info": {
   "codemirror_mode": {
    "name": "ipython",
    "version": 3
   },
   "file_extension": ".py",
   "mimetype": "text/x-python",
   "name": "python",
   "nbconvert_exporter": "python",
   "pygments_lexer": "ipython3",
   "version": "3.9.7"
  },
  "orig_nbformat": 4
 },
 "nbformat": 4,
 "nbformat_minor": 2
}
