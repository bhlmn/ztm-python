{
 "cells": [
  {
   "cell_type": "markdown",
   "source": [
    "## Exercise: Fibonacci Numbers\n",
    "\n",
    "Create a function, `fib()` that, given an input number, will return that index in the fibonacci sequence."
   ],
   "metadata": {}
  },
  {
   "cell_type": "code",
   "execution_count": 4,
   "source": [
    "def fib(n):\n",
    "    if n in [0, 1]:\n",
    "        return n\n",
    "    else:\n",
    "        fn_2 = 0\n",
    "        fn_1 = 1\n",
    "        for i in range(2, n + 1):\n",
    "            fn = fn_2 + fn_1\n",
    "            fn_2 = fn_1 + 0\n",
    "            fn_1 = fn + 0\n",
    "        return fn"
   ],
   "outputs": [],
   "metadata": {}
  },
  {
   "cell_type": "code",
   "execution_count": 8,
   "source": [
    "fib(20)"
   ],
   "outputs": [
    {
     "output_type": "execute_result",
     "data": {
      "text/plain": [
       "6765"
      ]
     },
     "metadata": {},
     "execution_count": 8
    }
   ],
   "metadata": {}
  },
  {
   "cell_type": "code",
   "execution_count": null,
   "source": [],
   "outputs": [],
   "metadata": {}
  }
 ],
 "metadata": {
  "orig_nbformat": 4,
  "language_info": {
   "name": "python",
   "version": "3.9.7",
   "mimetype": "text/x-python",
   "codemirror_mode": {
    "name": "ipython",
    "version": 3
   },
   "pygments_lexer": "ipython3",
   "nbconvert_exporter": "python",
   "file_extension": ".py"
  },
  "kernelspec": {
   "name": "python3",
   "display_name": "Python 3.9.7 64-bit"
  },
  "interpreter": {
   "hash": "397704579725e15f5c7cb49fe5f0341eb7531c82d19f2c29d197e8b64ab5776b"
  }
 },
 "nbformat": 4,
 "nbformat_minor": 2
}