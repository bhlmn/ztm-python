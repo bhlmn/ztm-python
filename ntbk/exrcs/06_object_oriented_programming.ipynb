{
 "cells": [
  {
   "cell_type": "markdown",
   "id": "114573a4-add4-4d75-b07c-917d726c34d4",
   "metadata": {},
   "source": [
    "# Object oriented programming exercises"
   ]
  },
  {
   "cell_type": "markdown",
   "id": "1b4ecf0e-eb1a-4dd9-9d16-c8b8c6c62cde",
   "metadata": {},
   "source": [
    "## Exercise: Cat\n",
    "\n",
    "Given the below class:\n",
    "``` python\n",
    "class Cat:\n",
    "    species = 'mammal'\n",
    "    def __init__(self, name, age):\n",
    "        self.name = name\n",
    "        self.age = age\n",
    "```\n",
    "1. Instantiate the Cat object with 3 cats\n",
    "2. Create a function that finds the oldest cat\n",
    "3. Print out: \"The oldest cat is x years old.\". x will be the oldest cat age by using the function in #2"
   ]
  },
  {
   "cell_type": "code",
   "execution_count": 2,
   "id": "48260743-5a31-4f00-908f-3e2cbe2a6561",
   "metadata": {},
   "outputs": [],
   "source": [
    "class Cat:\n",
    "    \n",
    "    species = 'mammal'\n",
    "    \n",
    "    def __init__(self, name, age):\n",
    "        self.name = name\n",
    "        self.age = age\n",
    "    \n",
    "    def get_name(self):\n",
    "        return self.name\n",
    "    \n",
    "    def get_age(self):\n",
    "        return self.age"
   ]
  },
  {
   "cell_type": "code",
   "execution_count": 3,
   "id": "1a4fb5ab-080a-44b3-99d2-83975b959d28",
   "metadata": {},
   "outputs": [],
   "source": [
    "cat1 = Cat('Meeko', 12)\n",
    "cat2 = Cat('Riley', 7)\n",
    "cat3 = Cat('Wesley', 1)"
   ]
  },
  {
   "cell_type": "code",
   "execution_count": 7,
   "id": "e8957465-b65f-4f4c-b6e4-9660754798cc",
   "metadata": {},
   "outputs": [],
   "source": [
    "def oldest_cat(*args):\n",
    "    return max([cat.get_age() for cat in args])"
   ]
  },
  {
   "cell_type": "code",
   "execution_count": 8,
   "id": "885c0ea6-5c28-4313-8ac4-c4149c793d57",
   "metadata": {},
   "outputs": [
    {
     "name": "stdout",
     "output_type": "stream",
     "text": [
      "The oldest cat is 12 years old.\n"
     ]
    }
   ],
   "source": [
    "print(f'The oldest cat is {oldest_cat(cat1, cat2, cat3)} years old.')"
   ]
  },
  {
   "cell_type": "markdown",
   "id": "956f687b-4381-40b5-9c03-dd3607d0abb8",
   "metadata": {},
   "source": [
    "## Exercise: Pets Everywhere\n",
    "\n",
    "```python\n",
    "class Pets():\n",
    "    animals = []\n",
    "    def __init__(self, animals):\n",
    "        self.animals = animals\n",
    "\n",
    "    def walk(self):\n",
    "        for animal in self.animals:\n",
    "            print(animal.walk())\n",
    "\n",
    "class Cat():\n",
    "    is_lazy = True\n",
    "\n",
    "    def __init__(self, name, age):\n",
    "        self.name = name\n",
    "        self.age = age\n",
    "\n",
    "    def walk(self):\n",
    "        return f'{self.name} is just walking around'\n",
    "\n",
    "class Simon(Cat):\n",
    "    def sing(self, sounds):\n",
    "        return f'{sounds}'\n",
    "\n",
    "class Sally(Cat):\n",
    "    def sing(self, sounds):\n",
    "        return f'{sounds}'\n",
    "\n",
    "```\n",
    "1. Add another Cat\n",
    "2. Create a list of all of the pets (create 3 cat instances from the above) my_cats = []\n",
    "3. Instantiate the Pet class with all your cats use variable my_pets\n",
    "4. Output all of the cats walking using the my_pets instance"
   ]
  },
  {
   "cell_type": "code",
   "execution_count": 1,
   "id": "f6dbc26d-cb77-49b9-a56f-22dd104e82a7",
   "metadata": {},
   "outputs": [
    {
     "name": "stdout",
     "output_type": "stream",
     "text": [
      "Simon is just walking around\n",
      "Sally is just walking around\n",
      "Meeko is just walking around\n"
     ]
    }
   ],
   "source": [
    "class Pets():\n",
    "    animals = []\n",
    "    def __init__(self, animals):\n",
    "        self.animals = animals\n",
    "\n",
    "    def walk(self):\n",
    "        for animal in self.animals:\n",
    "            print(animal.walk())\n",
    "\n",
    "class Cat():\n",
    "    is_lazy = True\n",
    "\n",
    "    def __init__(self, name, age):\n",
    "        self.name = name\n",
    "        self.age = age\n",
    "\n",
    "    def walk(self):\n",
    "        return f'{self.name} is just walking around'\n",
    "\n",
    "class Simon(Cat):\n",
    "    def sing(self, sounds):\n",
    "        return f'{sounds}'\n",
    "\n",
    "class Sally(Cat):\n",
    "    def sing(self, sounds):\n",
    "        return f'{sounds}'\n",
    "\n",
    "class Meeko(Cat):\n",
    "    def sing(self, sounds):\n",
    "        return f'{sounds}'\n",
    "\n",
    "simon = Simon('Simon', 4)\n",
    "sally = Sally('Sally', 1)\n",
    "meeko = Meeko('Meeko', 13)\n",
    "\n",
    "my_cats = [simon, sally, meeko]\n",
    "my_pets = Pets(my_cats)\n",
    "my_pets.walk()"
   ]
  },
  {
   "cell_type": "markdown",
   "id": "1fdf98b7-7557-4856-b12f-4d3d32403091",
   "metadata": {},
   "source": [
    "## Exercise: Extending List\n",
    "\n",
    "Create a `SuperList()` class that inherits all the functionality of a list, with the only change that its length always returns 100."
   ]
  },
  {
   "cell_type": "code",
   "execution_count": 2,
   "id": "2004e610-71e5-4182-acd2-ac5e6d646aeb",
   "metadata": {},
   "outputs": [],
   "source": [
    "class SuperList(list):\n",
    "    def __len__(self):\n",
    "        return 1000"
   ]
  },
  {
   "cell_type": "code",
   "execution_count": 8,
   "id": "e285b025-d3e3-4584-bae4-04700b6a0b9a",
   "metadata": {},
   "outputs": [],
   "source": [
    "sl = SuperList()"
   ]
  },
  {
   "cell_type": "code",
   "execution_count": 9,
   "id": "59db4098-5238-4e91-94ca-1a2766b80ef5",
   "metadata": {},
   "outputs": [
    {
     "data": {
      "text/plain": [
       "100"
      ]
     },
     "execution_count": 9,
     "metadata": {},
     "output_type": "execute_result"
    }
   ],
   "source": [
    "len(sl)"
   ]
  },
  {
   "cell_type": "code",
   "execution_count": 10,
   "id": "360f02b9-120f-4e2d-b96b-0c96a5d841c9",
   "metadata": {},
   "outputs": [
    {
     "data": {
      "text/plain": [
       "[5]"
      ]
     },
     "execution_count": 10,
     "metadata": {},
     "output_type": "execute_result"
    }
   ],
   "source": [
    "sl.append(5)\n",
    "sl"
   ]
  },
  {
   "cell_type": "code",
   "execution_count": 11,
   "id": "f1509efa-0cd2-4201-a8c4-76faacfbc77e",
   "metadata": {},
   "outputs": [
    {
     "data": {
      "text/plain": [
       "5"
      ]
     },
     "execution_count": 11,
     "metadata": {},
     "output_type": "execute_result"
    }
   ],
   "source": [
    "sl[0]"
   ]
  },
  {
   "cell_type": "code",
   "execution_count": 12,
   "id": "c340147f-d71f-4c1c-98b2-069fb5a5eda3",
   "metadata": {},
   "outputs": [
    {
     "data": {
      "text/plain": [
       "True"
      ]
     },
     "execution_count": 12,
     "metadata": {},
     "output_type": "execute_result"
    }
   ],
   "source": [
    "issubclass(SuperList, list)"
   ]
  },
  {
   "cell_type": "code",
   "execution_count": null,
   "id": "727fe725-5fbc-46cb-99ce-4a648f941861",
   "metadata": {},
   "outputs": [],
   "source": []
  }
 ],
 "metadata": {
  "kernelspec": {
   "display_name": "Python 3 (ipykernel)",
   "language": "python",
   "name": "python3"
  },
  "language_info": {
   "codemirror_mode": {
    "name": "ipython",
    "version": 3
   },
   "file_extension": ".py",
   "mimetype": "text/x-python",
   "name": "python",
   "nbconvert_exporter": "python",
   "pygments_lexer": "ipython3",
   "version": "3.9.7"
  }
 },
 "nbformat": 4,
 "nbformat_minor": 5
}
