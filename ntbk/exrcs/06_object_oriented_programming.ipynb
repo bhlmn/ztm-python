{
 "cells": [
  {
   "cell_type": "markdown",
   "id": "114573a4-add4-4d75-b07c-917d726c34d4",
   "metadata": {},
   "source": [
    "# Object oriented programming exercises"
   ]
  },
  {
   "cell_type": "markdown",
   "id": "1b4ecf0e-eb1a-4dd9-9d16-c8b8c6c62cde",
   "metadata": {},
   "source": [
    "## Exercise: Cat\n",
    "\n",
    "Given the below class:\n",
    "``` python\n",
    "class Cat:\n",
    "    species = 'mammal'\n",
    "    def __init__(self, name, age):\n",
    "        self.name = name\n",
    "        self.age = age\n",
    "```\n",
    "1. Instantiate the Cat object with 3 cats\n",
    "2. Create a function that finds the oldest cat\n",
    "3. Print out: \"The oldest cat is x years old.\". x will be the oldest cat age by using the function in #2"
   ]
  },
  {
   "cell_type": "code",
   "execution_count": 2,
   "id": "48260743-5a31-4f00-908f-3e2cbe2a6561",
   "metadata": {},
   "outputs": [],
   "source": [
    "class Cat:\n",
    "    \n",
    "    species = 'mammal'\n",
    "    \n",
    "    def __init__(self, name, age):\n",
    "        self.name = name\n",
    "        self.age = age\n",
    "    \n",
    "    def get_name(self):\n",
    "        return self.name\n",
    "    \n",
    "    def get_age(self):\n",
    "        return self.age"
   ]
  },
  {
   "cell_type": "code",
   "execution_count": 3,
   "id": "1a4fb5ab-080a-44b3-99d2-83975b959d28",
   "metadata": {},
   "outputs": [],
   "source": [
    "cat1 = Cat('Meeko', 12)\n",
    "cat2 = Cat('Riley', 7)\n",
    "cat3 = Cat('Wesley', 1)"
   ]
  },
  {
   "cell_type": "code",
   "execution_count": 7,
   "id": "e8957465-b65f-4f4c-b6e4-9660754798cc",
   "metadata": {},
   "outputs": [],
   "source": [
    "def oldest_cat(*args):\n",
    "    return max([cat.get_age() for cat in args])"
   ]
  },
  {
   "cell_type": "code",
   "execution_count": 8,
   "id": "885c0ea6-5c28-4313-8ac4-c4149c793d57",
   "metadata": {},
   "outputs": [
    {
     "name": "stdout",
     "output_type": "stream",
     "text": [
      "The oldest cat is 12 years old.\n"
     ]
    }
   ],
   "source": [
    "print(f'The oldest cat is {oldest_cat(cat1, cat2, cat3)} years old.')"
   ]
  },
  {
   "cell_type": "code",
   "execution_count": null,
   "id": "36eb3e63-b12b-42b5-b71e-e8f4c53b7dfd",
   "metadata": {},
   "outputs": [],
   "source": []
  }
 ],
 "metadata": {
  "kernelspec": {
   "display_name": "Python 3 (ipykernel)",
   "language": "python",
   "name": "python3"
  },
  "language_info": {
   "codemirror_mode": {
    "name": "ipython",
    "version": 3
   },
   "file_extension": ".py",
   "mimetype": "text/x-python",
   "name": "python",
   "nbconvert_exporter": "python",
   "pygments_lexer": "ipython3",
   "version": "3.9.7"
  }
 },
 "nbformat": 4,
 "nbformat_minor": 5
}
