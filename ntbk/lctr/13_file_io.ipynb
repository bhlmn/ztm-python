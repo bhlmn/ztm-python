{
 "cells": [
  {
   "cell_type": "markdown",
   "source": [
    "# File I/O\n",
    "\n",
    "Let's manipulate the README for this project.\n",
    "\n",
    "We can easily open that README with `open()`. And view its contents with `read()`."
   ],
   "metadata": {}
  },
  {
   "cell_type": "code",
   "execution_count": 9,
   "source": [
    "readme = open('../../README.MD')\n",
    "print(readme.read())"
   ],
   "outputs": [
    {
     "output_type": "stream",
     "name": "stdout",
     "text": [
      "# ztm-python\n",
      "Notebooks I made for the Zero to Mastery Python Developer course\n",
      "\n"
     ]
    }
   ],
   "metadata": {}
  },
  {
   "cell_type": "markdown",
   "source": [
    "Since we have read through the file, the read cursor is now at the end. So if we try to read it again we get nothing, since we are at the end of the file."
   ],
   "metadata": {}
  },
  {
   "cell_type": "code",
   "execution_count": 10,
   "source": [
    "print(readme.read())"
   ],
   "outputs": [
    {
     "output_type": "stream",
     "name": "stdout",
     "text": [
      "\n"
     ]
    }
   ],
   "metadata": {}
  },
  {
   "cell_type": "markdown",
   "source": [
    "We can return to the beginning of the file with `seek(0)`."
   ],
   "metadata": {}
  },
  {
   "cell_type": "code",
   "execution_count": 8,
   "source": [
    "readme.seek(0)\n",
    "print(readme.read())"
   ],
   "outputs": [
    {
     "output_type": "stream",
     "name": "stdout",
     "text": [
      "# ztm-python\n",
      "Notebooks I made for the Zero to Mastery Python Developer course\n",
      "\n"
     ]
    }
   ],
   "metadata": {}
  },
  {
   "cell_type": "markdown",
   "source": [
    "We can also read individual lines."
   ],
   "metadata": {}
  },
  {
   "cell_type": "code",
   "execution_count": 7,
   "source": [
    "readme.seek(0)\n",
    "print(readme.readline())\n",
    "print(readme.readline())"
   ],
   "outputs": [
    {
     "output_type": "stream",
     "name": "stdout",
     "text": [
      "# ztm-python\n",
      "\n",
      "Notebooks I made for the Zero to Mastery Python Developer course\n",
      "\n"
     ]
    }
   ],
   "metadata": {}
  },
  {
   "cell_type": "markdown",
   "source": [
    "Or get all the lines as a list."
   ],
   "metadata": {}
  },
  {
   "cell_type": "code",
   "execution_count": 11,
   "source": [
    "readme.seek(0)\n",
    "print(readme.readlines())"
   ],
   "outputs": [
    {
     "output_type": "stream",
     "name": "stdout",
     "text": [
      "['# ztm-python\\n', 'Notebooks I made for the Zero to Mastery Python Developer course\\n']\n"
     ]
    }
   ],
   "metadata": {}
  },
  {
   "cell_type": "markdown",
   "source": [
    "And now let's close the file."
   ],
   "metadata": {}
  },
  {
   "cell_type": "code",
   "execution_count": 12,
   "source": [
    "readme.close()"
   ],
   "outputs": [],
   "metadata": {}
  },
  {
   "cell_type": "markdown",
   "source": [
    "A better way to do this (don't have to worry about closing)."
   ],
   "metadata": {}
  },
  {
   "cell_type": "code",
   "execution_count": 13,
   "source": [
    "with open('../../README.md', 'r') as my_file:\n",
    "    print(my_file.read())"
   ],
   "outputs": [
    {
     "output_type": "stream",
     "name": "stdout",
     "text": [
      "# ztm-python\n",
      "Notebooks I made for the Zero to Mastery Python Developer course\n",
      "\n"
     ]
    }
   ],
   "metadata": {}
  },
  {
   "cell_type": "markdown",
   "source": [
    "Modes:\n",
    "* `'r'` -- read a file\n",
    "* `'r+'` -- read a file and be able to write to it. Note that this will _overwrite_ contents of the file.\n",
    "* `'w'` -- write to a file. The file does not need to already exist.\n",
    "* `'a'` -- append to a file"
   ],
   "metadata": {}
  },
  {
   "cell_type": "markdown",
   "source": [],
   "metadata": {}
  }
 ],
 "metadata": {
  "orig_nbformat": 4,
  "language_info": {
   "name": "python",
   "version": "3.9.7",
   "mimetype": "text/x-python",
   "codemirror_mode": {
    "name": "ipython",
    "version": 3
   },
   "pygments_lexer": "ipython3",
   "nbconvert_exporter": "python",
   "file_extension": ".py"
  },
  "kernelspec": {
   "name": "python3",
   "display_name": "Python 3.9.7 64-bit"
  },
  "interpreter": {
   "hash": "397704579725e15f5c7cb49fe5f0341eb7531c82d19f2c29d197e8b64ab5776b"
  }
 },
 "nbformat": 4,
 "nbformat_minor": 2
}