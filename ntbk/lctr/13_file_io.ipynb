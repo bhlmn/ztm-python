{
 "cells": [
  {
   "cell_type": "markdown",
   "metadata": {},
   "source": [
    "# File I/O\n",
    "\n",
    "Let's manipulate the README for this project.\n",
    "\n",
    "We can easily open that README with `open()`. And view its contents with `read()`."
   ]
  },
  {
   "cell_type": "code",
   "execution_count": 9,
   "metadata": {},
   "outputs": [
    {
     "name": "stdout",
     "output_type": "stream",
     "text": [
      "# ztm-python\n",
      "Notebooks I made for the Zero to Mastery Python Developer course\n",
      "\n"
     ]
    }
   ],
   "source": [
    "readme = open('../../README.MD')\n",
    "print(readme.read())"
   ]
  },
  {
   "cell_type": "markdown",
   "metadata": {},
   "source": [
    "Since we have read through the file, the read cursor is now at the end. So if we try to read it again we get nothing, since we are at the end of the file."
   ]
  },
  {
   "cell_type": "code",
   "execution_count": 10,
   "metadata": {},
   "outputs": [
    {
     "name": "stdout",
     "output_type": "stream",
     "text": [
      "\n"
     ]
    }
   ],
   "source": [
    "print(readme.read())"
   ]
  },
  {
   "cell_type": "markdown",
   "metadata": {},
   "source": [
    "We can return to the beginning of the file with `seek(0)`."
   ]
  },
  {
   "cell_type": "code",
   "execution_count": 8,
   "metadata": {},
   "outputs": [
    {
     "name": "stdout",
     "output_type": "stream",
     "text": [
      "# ztm-python\n",
      "Notebooks I made for the Zero to Mastery Python Developer course\n",
      "\n"
     ]
    }
   ],
   "source": [
    "readme.seek(0)\n",
    "print(readme.read())"
   ]
  },
  {
   "cell_type": "markdown",
   "metadata": {},
   "source": [
    "We can also read individual lines."
   ]
  },
  {
   "cell_type": "code",
   "execution_count": 7,
   "metadata": {},
   "outputs": [
    {
     "name": "stdout",
     "output_type": "stream",
     "text": [
      "# ztm-python\n",
      "\n",
      "Notebooks I made for the Zero to Mastery Python Developer course\n",
      "\n"
     ]
    }
   ],
   "source": [
    "readme.seek(0)\n",
    "print(readme.readline())\n",
    "print(readme.readline())"
   ]
  },
  {
   "cell_type": "markdown",
   "metadata": {},
   "source": [
    "Or get all the lines as a list."
   ]
  },
  {
   "cell_type": "code",
   "execution_count": 11,
   "metadata": {},
   "outputs": [
    {
     "name": "stdout",
     "output_type": "stream",
     "text": [
      "['# ztm-python\\n', 'Notebooks I made for the Zero to Mastery Python Developer course\\n']\n"
     ]
    }
   ],
   "source": [
    "readme.seek(0)\n",
    "print(readme.readlines())"
   ]
  },
  {
   "cell_type": "markdown",
   "metadata": {},
   "source": [
    "And now let's close the file."
   ]
  },
  {
   "cell_type": "code",
   "execution_count": 12,
   "metadata": {},
   "outputs": [],
   "source": [
    "readme.close()"
   ]
  },
  {
   "cell_type": "markdown",
   "metadata": {},
   "source": [
    "A better way to do this (don't have to worry about closing)."
   ]
  },
  {
   "cell_type": "code",
   "execution_count": 13,
   "metadata": {},
   "outputs": [
    {
     "name": "stdout",
     "output_type": "stream",
     "text": [
      "# ztm-python\n",
      "Notebooks I made for the Zero to Mastery Python Developer course\n",
      "\n"
     ]
    }
   ],
   "source": [
    "with open('../../README.md', 'r') as my_file:\n",
    "    print(my_file.read())"
   ]
  },
  {
   "cell_type": "markdown",
   "metadata": {},
   "source": [
    "Modes:\n",
    "* `'r'` -- read a file\n",
    "* `'r+'` -- read a file and be able to write to it. Note that this will _overwrite_ contents of the file.\n",
    "* `'w'` -- write to a file. The file does not need to already exist.\n",
    "* `'a'` -- append to a file"
   ]
  },
  {
   "cell_type": "markdown",
   "metadata": {},
   "source": [
    "Huge note! [pathlib](https://docs.python.org/3/library/pathlib.html) is a module that exists to handle filesystem paths on both windows and mac. I could have used this on the recent work that I did for pulling reports!"
   ]
  },
  {
   "cell_type": "markdown",
   "metadata": {},
   "source": []
  }
 ],
 "metadata": {
  "interpreter": {
   "hash": "397704579725e15f5c7cb49fe5f0341eb7531c82d19f2c29d197e8b64ab5776b"
  },
  "kernelspec": {
   "display_name": "Python 3.9.7 64-bit",
   "name": "python3"
  },
  "language_info": {
   "codemirror_mode": {
    "name": "ipython",
    "version": 3
   },
   "file_extension": ".py",
   "mimetype": "text/x-python",
   "name": "python",
   "nbconvert_exporter": "python",
   "pygments_lexer": "ipython3",
   "version": "3.9.7"
  },
  "orig_nbformat": 4
 },
 "nbformat": 4,
 "nbformat_minor": 2
}
