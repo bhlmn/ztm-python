{
 "cells": [
  {
   "cell_type": "markdown",
   "metadata": {},
   "source": [
    "# Testing in Python"
   ]
  },
  {
   "cell_type": "code",
   "execution_count": 1,
   "metadata": {},
   "outputs": [],
   "source": [
    "# In the main file\n",
    "def do_stuff(num):\n",
    "    return num * 5"
   ]
  },
  {
   "cell_type": "code",
   "execution_count": null,
   "metadata": {},
   "outputs": [],
   "source": [
    "# In test.py\n",
    "import unittest\n",
    "import main\n",
    "\n",
    "class TestMain(unittest.TestCase):\n",
    "\n",
    "    def setUp(self):\n",
    "        \"\"\"This will be run at the beginning of each test.\n",
    "        \"\"\"\n",
    "        pass\n",
    "\n",
    "    def test_do_stuff(self):\n",
    "        test_param = 10\n",
    "        result = main.do_stuff(test_param)\n",
    "        self.assertEqual(result, 50)\n",
    "    \n",
    "    def tearDown(self):\n",
    "        \"\"\"This will be run at the end of each test.\n",
    "        \"\"\"\n",
    "        pass\n",
    "\n",
    "if __name__ == '__main__':\n",
    "    unittest.main()"
   ]
  }
 ],
 "metadata": {
  "interpreter": {
   "hash": "397704579725e15f5c7cb49fe5f0341eb7531c82d19f2c29d197e8b64ab5776b"
  },
  "kernelspec": {
   "display_name": "Python 3.9.7 64-bit",
   "name": "python3"
  },
  "language_info": {
   "codemirror_mode": {
    "name": "ipython",
    "version": 3
   },
   "file_extension": ".py",
   "mimetype": "text/x-python",
   "name": "python",
   "nbconvert_exporter": "python",
   "pygments_lexer": "ipython3",
   "version": "3.9.7"
  },
  "orig_nbformat": 4
 },
 "nbformat": 4,
 "nbformat_minor": 2
}
