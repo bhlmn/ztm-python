{
 "cells": [
  {
   "cell_type": "markdown",
   "id": "1705c01f-7db8-4866-ace9-237f317317cd",
   "metadata": {},
   "source": [
    "# Decorators"
   ]
  },
  {
   "cell_type": "markdown",
   "id": "32fb5520-cbf4-4ece-acfa-4c98e1c65120",
   "metadata": {},
   "source": [
    "Decorators allow us to supercharge any function. They are higher-order functions (functions that are passed and return functions)."
   ]
  },
  {
   "cell_type": "code",
   "execution_count": 2,
   "id": "f1874e24-4345-43a7-a411-55c5f68c3b6b",
   "metadata": {},
   "outputs": [
    {
     "name": "stdout",
     "output_type": "stream",
     "text": [
      "xXxXxXxXxXxXxXxXxX\n",
      "\n",
      "Hello there!\n",
      "\n",
      "xXxXxXxXxXxXxXxXxX\n"
     ]
    }
   ],
   "source": [
    "def wrap_in_x(func):\n",
    "    def wrap_func(*args, **kwargs):\n",
    "        print('xXxXxXxXxXxXxXxXxX\\n')\n",
    "        func(*args, **kwargs)\n",
    "        print('\\nxXxXxXxXxXxXxXxXxX')\n",
    "    return wrap_func\n",
    "\n",
    "@wrap_in_x\n",
    "def say_hello():\n",
    "    print('Hello there!')\n",
    "\n",
    "say_hello()"
   ]
  },
  {
   "cell_type": "markdown",
   "id": "060f0da9-3090-4fae-9456-c69f2b3b5630",
   "metadata": {},
   "source": [
    "What great use case for a decorator is timing how long a function performs."
   ]
  },
  {
   "cell_type": "code",
   "execution_count": 3,
   "id": "7e860525-5f44-44fe-9cb1-7628fc2a31dc",
   "metadata": {},
   "outputs": [
    {
     "name": "stdout",
     "output_type": "stream",
     "text": [
      "Beginning function at 2021-09-30 05:43:50.634748.\n",
      "Hi Bryan!!\n",
      "Function ended at 2021-09-30 05:43:50.635201, taking 0:00:00.000453 to run.\n"
     ]
    }
   ],
   "source": [
    "import datetime\n",
    "\n",
    "def performance(fn):\n",
    "    def wrap_func(*args, **kwargs):\n",
    "        beginning = datetime.datetime.now()\n",
    "        print(f'Beginning function at {beginning}.')\n",
    "        fn(*args, **kwargs)\n",
    "        end = datetime.datetime.now()\n",
    "        delta = end - beginning\n",
    "        print(f'Function ended at {end}, taking {delta} to run.')\n",
    "    return wrap_func\n",
    "\n",
    "@performance\n",
    "def say_hello(name):\n",
    "    print(f'Hi {name}!!')\n",
    "\n",
    "say_hello('Bryan')"
   ]
  }
 ],
 "metadata": {
  "kernelspec": {
   "display_name": "Python 3 (ipykernel)",
   "language": "python",
   "name": "python3"
  },
  "language_info": {
   "codemirror_mode": {
    "name": "ipython",
    "version": 3
   },
   "file_extension": ".py",
   "mimetype": "text/x-python",
   "name": "python",
   "nbconvert_exporter": "python",
   "pygments_lexer": "ipython3",
   "version": "3.9.7"
  }
 },
 "nbformat": 4,
 "nbformat_minor": 5
}
