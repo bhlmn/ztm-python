{
 "cells": [
  {
   "cell_type": "markdown",
   "id": "1705c01f-7db8-4866-ace9-237f317317cd",
   "metadata": {},
   "source": [
    "# Decorators"
   ]
  },
  {
   "cell_type": "markdown",
   "id": "32fb5520-cbf4-4ece-acfa-4c98e1c65120",
   "metadata": {},
   "source": [
    "Decorators allow us to supercharge any function. They are higher-order functions (functions that are passed and return functions)."
   ]
  },
  {
   "cell_type": "code",
   "execution_count": 4,
   "id": "f1874e24-4345-43a7-a411-55c5f68c3b6b",
   "metadata": {},
   "outputs": [
    {
     "name": "stdout",
     "output_type": "stream",
     "text": [
      "xXxXxXxXxXxXxXxXxX\n",
      "\n",
      "Hello there!\n",
      "\n",
      "xXxXxXxXxXxXxXxXxX\n"
     ]
    }
   ],
   "source": [
    "def wrap_in_x(func, *args):\n",
    "    def wrap_func():\n",
    "        print('xXxXxXxXxXxXxXxXxX\\n')\n",
    "        func()\n",
    "        print('\\nxXxXxXxXxXxXxXxXxX')\n",
    "    return wrap_func()\n",
    "\n",
    "@wrap_in_x\n",
    "def say_hello():\n",
    "    print('Hello there!')\n",
    "\n",
    "say_hello"
   ]
  },
  {
   "cell_type": "code",
   "execution_count": null,
   "id": "dd0950d2-4389-440a-9ada-9d52a51ea244",
   "metadata": {},
   "outputs": [],
   "source": []
  }
 ],
 "metadata": {
  "kernelspec": {
   "display_name": "Python 3 (ipykernel)",
   "language": "python",
   "name": "python3"
  },
  "language_info": {
   "codemirror_mode": {
    "name": "ipython",
    "version": 3
   },
   "file_extension": ".py",
   "mimetype": "text/x-python",
   "name": "python",
   "nbconvert_exporter": "python",
   "pygments_lexer": "ipython3",
   "version": "3.9.7"
  }
 },
 "nbformat": 4,
 "nbformat_minor": 5
}
