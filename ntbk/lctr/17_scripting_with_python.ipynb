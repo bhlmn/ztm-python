{
 "cells": [
  {
   "cell_type": "markdown",
   "metadata": {},
   "source": [
    "Want to process images? Use [`Pillow`](https://python-pillow.org/) to:\n",
    "\n",
    "* Save images to different format\n",
    "* Resize images\n",
    "* Apply filters\n",
    "* Crop\n",
    "* Preserve aspect ratio when resizing images (`.thumbnail()`)"
   ]
  },
  {
   "cell_type": "markdown",
   "metadata": {},
   "source": [
    "For more advanced image and video processing, check out [OpenCV](https://docs.opencv.org/master/index.html)!"
   ]
  },
  {
   "cell_type": "markdown",
   "metadata": {},
   "source": [
    "Is there a library for working with PDFs? Why yes! Check out [PyPDF2](https://pythonhosted.org/PyPDF2/). You can even use it to watermark pages of PDFs!"
   ]
  },
  {
   "cell_type": "markdown",
   "metadata": {},
   "source": [
    "You can also send [emails](https://docs.python.org/3/library/email.examples.html) with Python!"
   ]
  },
  {
   "cell_type": "code",
   "execution_count": null,
   "metadata": {},
   "outputs": [],
   "source": [
    "import smtplib\n",
    "from email.message import EmailMessage\n",
    "\n",
    "email = EmailMessage()\n",
    "email['from'] = 'Bryan Holman'\n",
    "email['to'] = 'test@gmail.com'\n",
    "email['subject'] = 'This is a test!'\n",
    "\n",
    "# You can make the content html!\n",
    "email.set_content('You just sent an email!')\n",
    "\n",
    "with smtplib.SMTP(host='smtp.gmail.com', port=587) as smtp:\n",
    "    smtp.ehlo()\n",
    "    smtp.starttls()\n",
    "    smtp.login('test@gmail.com', 'password')\n",
    "    smtp.send_message(email)\n",
    "    print('all good boss!')"
   ]
  },
  {
   "cell_type": "markdown",
   "metadata": {},
   "source": [
    "Let's build a secure password checker! Check out the `prjct` folder."
   ]
  },
  {
   "cell_type": "markdown",
   "metadata": {},
   "source": []
  }
 ],
 "metadata": {
  "interpreter": {
   "hash": "aee8b7b246df8f9039afb4144a1f6fd8d2ca17a180786b69acc140d282b71a49"
  },
  "kernelspec": {
   "display_name": "Python 3.9.7 64-bit",
   "name": "python3"
  },
  "language_info": {
   "codemirror_mode": {
    "name": "ipython",
    "version": 3
   },
   "file_extension": ".py",
   "mimetype": "text/x-python",
   "name": "python",
   "nbconvert_exporter": "python",
   "pygments_lexer": "ipython3",
   "version": "3.9.7"
  },
  "orig_nbformat": 4
 },
 "nbformat": 4,
 "nbformat_minor": 2
}
