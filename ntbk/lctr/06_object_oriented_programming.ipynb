{
 "cells": [
  {
   "cell_type": "markdown",
   "id": "d68beb17-8a35-42b0-ac64-583120cbd880",
   "metadata": {},
   "source": [
    "# Object oriented programming"
   ]
  },
  {
   "cell_type": "markdown",
   "id": "75afddcf-ef91-426c-b239-bd3d7d7bc033",
   "metadata": {},
   "source": [
    "Let's begin by creating our own class."
   ]
  },
  {
   "cell_type": "code",
   "execution_count": 7,
   "id": "70f28e0d-bf1c-4163-8a1a-8017a4bd450f",
   "metadata": {},
   "outputs": [
    {
     "name": "stdout",
     "output_type": "stream",
     "text": [
      "Run Bryan run!\n"
     ]
    },
    {
     "data": {
      "text/plain": [
       "'Bryan'"
      ]
     },
     "execution_count": 7,
     "metadata": {},
     "output_type": "execute_result"
    }
   ],
   "source": [
    "class PlayerCharacter:\n",
    "    \n",
    "    # Class object attribute\n",
    "    membership = True\n",
    "    \n",
    "    # Constructor function\n",
    "    def __init__(self, name, age):\n",
    "        self.name = name\n",
    "        self.age = age\n",
    "    \n",
    "    def run(self):\n",
    "        print(f'Run {self.name} run!')\n",
    "    \n",
    "    def get_name(self):\n",
    "        return self.name\n",
    "    \n",
    "    def say_hello(self):\n",
    "        return 'Hello!'\n",
    "    \n",
    "    @classmethod\n",
    "    def say_goodbye(cls):\n",
    "        return 'Goodbye!'\n",
    "\n",
    "player1 = PlayerCharacter('Bryan', 36)\n",
    "player1.run()\n",
    "player1.get_name()"
   ]
  },
  {
   "cell_type": "markdown",
   "id": "66aa3024-dad6-42d3-8d92-45379ca20e75",
   "metadata": {},
   "source": [
    "Notes about classes and Python convention:\n",
    "* Class names are CamelCased\n",
    "* Has a constructor function (`__init__`)\n",
    "* Learn about a class witht he `help()` function"
   ]
  },
  {
   "cell_type": "markdown",
   "id": "b69ff964-5e04-4d98-b9d7-3b394d63268f",
   "metadata": {},
   "source": [
    "## `@classmethod`s"
   ]
  },
  {
   "cell_type": "markdown",
   "id": "4bf9ded2-664b-4628-8fb8-05d1b37143ec",
   "metadata": {},
   "source": [
    "A `@classmethod` is one that can be called without instanciating the class. For example, in the above class I can't run `say_hello()` without instanciating `PlayerCharacter`:"
   ]
  },
  {
   "cell_type": "code",
   "execution_count": 9,
   "id": "75da3106-7c86-4238-84bc-742872af4e81",
   "metadata": {},
   "outputs": [
    {
     "ename": "TypeError",
     "evalue": "say_hello() missing 1 required positional argument: 'self'",
     "output_type": "error",
     "traceback": [
      "\u001b[0;31m---------------------------------------------------------------------------\u001b[0m",
      "\u001b[0;31mTypeError\u001b[0m                                 Traceback (most recent call last)",
      "\u001b[0;32m/var/folders/cn/_8sc16pd7t1cj8_7hl57n7k80000gp/T/ipykernel_35754/2853347745.py\u001b[0m in \u001b[0;36m<module>\u001b[0;34m\u001b[0m\n\u001b[0;32m----> 1\u001b[0;31m \u001b[0mPlayerCharacter\u001b[0m\u001b[0;34m.\u001b[0m\u001b[0msay_hello\u001b[0m\u001b[0;34m(\u001b[0m\u001b[0;34m)\u001b[0m\u001b[0;34m\u001b[0m\u001b[0;34m\u001b[0m\u001b[0m\n\u001b[0m",
      "\u001b[0;31mTypeError\u001b[0m: say_hello() missing 1 required positional argument: 'self'"
     ]
    }
   ],
   "source": [
    "PlayerCharacter.say_hello()"
   ]
  },
  {
   "cell_type": "markdown",
   "id": "770c448e-4b86-466a-bdfe-160a4f715b38",
   "metadata": {},
   "source": [
    "But I can run `say_goodbye()`, since it is a class method."
   ]
  },
  {
   "cell_type": "markdown",
   "id": "b98e2a10-3e44-4dbe-ada8-fee5265fe202",
   "metadata": {},
   "source": [
    "`Self` is the instanciated object, so essentially this `TypeError` is just saying 'hey, you need an object (instance of this class) to use this method.'"
   ]
  },
  {
   "cell_type": "code",
   "execution_count": 10,
   "id": "982a4f49-88e3-4738-baaa-b98c179bc46c",
   "metadata": {},
   "outputs": [
    {
     "data": {
      "text/plain": [
       "'Goodbye!'"
      ]
     },
     "execution_count": 10,
     "metadata": {},
     "output_type": "execute_result"
    }
   ],
   "source": [
    "PlayerCharacter.say_goodbye()"
   ]
  },
  {
   "cell_type": "markdown",
   "id": "f87ec2f4-d558-46a1-b6c2-686ab47451c9",
   "metadata": {},
   "source": [
    "I can, however, run both of those methods from an instance of the class:"
   ]
  },
  {
   "cell_type": "code",
   "execution_count": 11,
   "id": "b67ca631-6992-47c2-946b-0d812f1b586e",
   "metadata": {},
   "outputs": [
    {
     "name": "stdout",
     "output_type": "stream",
     "text": [
      "Hello!\n",
      "Goodbye!\n"
     ]
    }
   ],
   "source": [
    "print(player1.say_hello())\n",
    "print(player1.say_goodbye())"
   ]
  },
  {
   "cell_type": "markdown",
   "id": "db09642c-3f1e-463f-90dd-24cc82bc98b4",
   "metadata": {},
   "source": [
    "A `@classmethod` _has to_ have `cls` (or the class state) as the first argument, and within these methods we can modify class attributes.\n",
    "\n",
    "If we want to use a class method but not pass the class state, we can use the `@staticmethod` decorator:"
   ]
  },
  {
   "cell_type": "code",
   "execution_count": 12,
   "id": "9d9193d5-d9fa-4ae7-9721-0dc660f4b6d6",
   "metadata": {},
   "outputs": [],
   "source": [
    "class Something:\n",
    "    some_att = True\n",
    "    \n",
    "    def __init__(self):\n",
    "        pass\n",
    "    \n",
    "    @classmethod\n",
    "    def switch_some_att(cls):\n",
    "        cls.some_att = False\n",
    "        return cls.some_att\n",
    "    \n",
    "    @staticmethod\n",
    "    def sum_num(*args):\n",
    "        return sum(args)"
   ]
  },
  {
   "cell_type": "code",
   "execution_count": 13,
   "id": "7047f985-c89e-4bd7-8044-812d0bb07339",
   "metadata": {},
   "outputs": [
    {
     "data": {
      "text/plain": [
       "False"
      ]
     },
     "execution_count": 13,
     "metadata": {},
     "output_type": "execute_result"
    }
   ],
   "source": [
    "Something.switch_some_att()"
   ]
  },
  {
   "cell_type": "code",
   "execution_count": 14,
   "id": "3de91adf-52e8-4f18-acf1-a2e100a9c916",
   "metadata": {},
   "outputs": [
    {
     "data": {
      "text/plain": [
       "29"
      ]
     },
     "execution_count": 14,
     "metadata": {},
     "output_type": "execute_result"
    }
   ],
   "source": [
    "Something.sum_num(1, 5, 9, 14)"
   ]
  },
  {
   "cell_type": "markdown",
   "id": "ebae0062-4983-480e-aa72-9ae811fa8064",
   "metadata": {},
   "source": [
    "## Private and public variables and methods\n",
    "\n",
    "Unlike other programming languages where variables can explicitly be declared as \"private\", there is no such thing in python. Instead, the python community has a convention that private variables and methods begin with an underscore. For example:"
   ]
  },
  {
   "cell_type": "code",
   "execution_count": 15,
   "id": "44b74628-9f04-4658-b392-a1e839af71cd",
   "metadata": {},
   "outputs": [],
   "source": [
    "class Random:\n",
    "    def __init__(self, string):\n",
    "        # This is a private attribute\n",
    "        self._string = string\n",
    "    \n",
    "    # This is a private method\n",
    "    def _get_string(self):\n",
    "        return self._string"
   ]
  },
  {
   "cell_type": "markdown",
   "id": "2fe8843b-a41e-4df1-b61d-9f9ab00afe79",
   "metadata": {},
   "source": [
    "I can still modify `_string`:"
   ]
  },
  {
   "cell_type": "code",
   "execution_count": 16,
   "id": "9bec7c73-9760-4087-bbb2-5c274975e6d3",
   "metadata": {},
   "outputs": [
    {
     "data": {
      "text/plain": [
       "'Hi there'"
      ]
     },
     "execution_count": 16,
     "metadata": {},
     "output_type": "execute_result"
    }
   ],
   "source": [
    "random = Random('Hi there')\n",
    "random._get_string()"
   ]
  },
  {
   "cell_type": "code",
   "execution_count": 17,
   "id": "a94d9433-4d67-4434-a60a-f4fa98aea03a",
   "metadata": {},
   "outputs": [
    {
     "data": {
      "text/plain": [
       "'Modified'"
      ]
     },
     "execution_count": 17,
     "metadata": {},
     "output_type": "execute_result"
    }
   ],
   "source": [
    "random._string = 'Modified'\n",
    "random._get_string()"
   ]
  },
  {
   "cell_type": "markdown",
   "id": "708b7b14-520f-413e-968c-4173cbf99a64",
   "metadata": {},
   "source": [
    "But this is bad practice. In Python, we trust each other :-)."
   ]
  },
  {
   "cell_type": "code",
   "execution_count": null,
   "id": "cb5e21b7-ce57-40dc-b06b-fb469cc2a40e",
   "metadata": {},
   "outputs": [],
   "source": []
  }
 ],
 "metadata": {
  "kernelspec": {
   "display_name": "Python 3 (ipykernel)",
   "language": "python",
   "name": "python3"
  },
  "language_info": {
   "codemirror_mode": {
    "name": "ipython",
    "version": 3
   },
   "file_extension": ".py",
   "mimetype": "text/x-python",
   "name": "python",
   "nbconvert_exporter": "python",
   "pygments_lexer": "ipython3",
   "version": "3.9.7"
  }
 },
 "nbformat": 4,
 "nbformat_minor": 5
}
