{
 "cells": [
  {
   "cell_type": "markdown",
   "id": "50db7782-3f76-4d44-9c17-662fc6258a5a",
   "metadata": {},
   "source": [
    "# Error Handling\n",
    "\n",
    "I've known about error handling (`try`/`except` blocks) for some time, but I _didn't_ know that `else` can join the party. For example, let's say we're trying to input the age of some user for our program. I could do this: "
   ]
  },
  {
   "cell_type": "code",
   "execution_count": null,
   "id": "0fc58181-9626-4417-8a44-2e573476d7fa",
   "metadata": {},
   "outputs": [],
   "source": [
    "while True:\n",
    "    try:\n",
    "        age = int(input('What is your age?'))\n",
    "        print(f'You are {age} years old.')\n",
    "    except ValueError:\n",
    "        print('Please enter an integer')"
   ]
  },
  {
   "cell_type": "markdown",
   "id": "588c6316-c8c6-4472-b8ef-9afa95879fcb",
   "metadata": {},
   "source": [
    "But this would run endlessly. Instead, I can break the while loop once I get a good value for `age` with this:"
   ]
  },
  {
   "cell_type": "code",
   "execution_count": 2,
   "id": "81873ac0-861a-4621-8867-bb1446b6c56e",
   "metadata": {},
   "outputs": [
    {
     "name": "stdin",
     "output_type": "stream",
     "text": [
      "What is your age? f\n"
     ]
    },
    {
     "name": "stdout",
     "output_type": "stream",
     "text": [
      "Please enter an integer\n"
     ]
    },
    {
     "name": "stdin",
     "output_type": "stream",
     "text": [
      "What is your age? 5\n"
     ]
    },
    {
     "name": "stdout",
     "output_type": "stream",
     "text": [
      "You are 5 years old.\n",
      "Thank you!\n"
     ]
    }
   ],
   "source": [
    "while True:\n",
    "    try:\n",
    "        age = int(input('What is your age?'))\n",
    "        print(f'You are {age} years old.')\n",
    "    except ValueError:\n",
    "        print('Please enter an integer')\n",
    "    else:\n",
    "        print('Thank you!')\n",
    "        break"
   ]
  },
  {
   "cell_type": "markdown",
   "id": "a05da364-2b85-4f8a-a994-2e5a986230b4",
   "metadata": {},
   "source": [
    "You can catch multiple types of errors in the same `except` block:"
   ]
  },
  {
   "cell_type": "code",
   "execution_count": 8,
   "id": "eaea27e8-48b9-446f-9ed7-af14c9eaa4bc",
   "metadata": {},
   "outputs": [
    {
     "data": {
      "text/plain": [
       "1.375"
      ]
     },
     "execution_count": 8,
     "metadata": {},
     "output_type": "execute_result"
    }
   ],
   "source": [
    "def sum_and_divide(*args):\n",
    "    for arg in args:\n",
    "        if arg == args[0]:\n",
    "            i = arg\n",
    "        else:\n",
    "            i += arg\n",
    "            i /= arg\n",
    "    return i\n",
    "\n",
    "sum_and_divide(1, 2, 3, 4)"
   ]
  },
  {
   "cell_type": "code",
   "execution_count": 9,
   "id": "eaac7adb-166b-490b-8045-ab7d19bab7e7",
   "metadata": {},
   "outputs": [
    {
     "ename": "TypeError",
     "evalue": "unsupported operand type(s) for +=: 'float' and 'str'",
     "output_type": "error",
     "traceback": [
      "\u001b[0;31m---------------------------------------------------------------------------\u001b[0m",
      "\u001b[0;31mTypeError\u001b[0m                                 Traceback (most recent call last)",
      "\u001b[0;32m/var/folders/cn/_8sc16pd7t1cj8_7hl57n7k80000gp/T/ipykernel_1884/2906475170.py\u001b[0m in \u001b[0;36m<module>\u001b[0;34m\u001b[0m\n\u001b[0;32m----> 1\u001b[0;31m \u001b[0msum_and_divide\u001b[0m\u001b[0;34m(\u001b[0m\u001b[0;36m1\u001b[0m\u001b[0;34m,\u001b[0m \u001b[0;36m2\u001b[0m\u001b[0;34m,\u001b[0m \u001b[0;34m'help'\u001b[0m\u001b[0;34m,\u001b[0m \u001b[0;36m4\u001b[0m\u001b[0;34m)\u001b[0m\u001b[0;34m\u001b[0m\u001b[0;34m\u001b[0m\u001b[0m\n\u001b[0m",
      "\u001b[0;32m/var/folders/cn/_8sc16pd7t1cj8_7hl57n7k80000gp/T/ipykernel_1884/2402421952.py\u001b[0m in \u001b[0;36msum_and_divide\u001b[0;34m(*args)\u001b[0m\n\u001b[1;32m      4\u001b[0m             \u001b[0mi\u001b[0m \u001b[0;34m=\u001b[0m \u001b[0marg\u001b[0m\u001b[0;34m\u001b[0m\u001b[0;34m\u001b[0m\u001b[0m\n\u001b[1;32m      5\u001b[0m         \u001b[0;32melse\u001b[0m\u001b[0;34m:\u001b[0m\u001b[0;34m\u001b[0m\u001b[0;34m\u001b[0m\u001b[0m\n\u001b[0;32m----> 6\u001b[0;31m             \u001b[0mi\u001b[0m \u001b[0;34m+=\u001b[0m \u001b[0marg\u001b[0m\u001b[0;34m\u001b[0m\u001b[0;34m\u001b[0m\u001b[0m\n\u001b[0m\u001b[1;32m      7\u001b[0m             \u001b[0mi\u001b[0m \u001b[0;34m/=\u001b[0m \u001b[0marg\u001b[0m\u001b[0;34m\u001b[0m\u001b[0;34m\u001b[0m\u001b[0m\n\u001b[1;32m      8\u001b[0m     \u001b[0;32mreturn\u001b[0m \u001b[0mi\u001b[0m\u001b[0;34m\u001b[0m\u001b[0;34m\u001b[0m\u001b[0m\n",
      "\u001b[0;31mTypeError\u001b[0m: unsupported operand type(s) for +=: 'float' and 'str'"
     ]
    }
   ],
   "source": [
    "sum_and_divide(1, 2, 'help', 4)"
   ]
  },
  {
   "cell_type": "code",
   "execution_count": 12,
   "id": "fe27a372-ba73-4b22-930c-baeb8d5eb34c",
   "metadata": {},
   "outputs": [],
   "source": [
    "def sum_and_divide(*args):\n",
    "    for arg in args:\n",
    "        if arg == args[0]:\n",
    "            i = arg\n",
    "        else:\n",
    "            try: \n",
    "                i += arg\n",
    "                i /= arg\n",
    "            except TypeError as e:\n",
    "                print(e)\n",
    "                return None\n",
    "    return i"
   ]
  },
  {
   "cell_type": "code",
   "execution_count": 13,
   "id": "f520521f-f16f-4c51-8fbd-82397ba22943",
   "metadata": {},
   "outputs": [
    {
     "name": "stdout",
     "output_type": "stream",
     "text": [
      "unsupported operand type(s) for +=: 'float' and 'str'\n"
     ]
    }
   ],
   "source": [
    "sum_and_divide(1, 2, 'help', 4)"
   ]
  },
  {
   "cell_type": "code",
   "execution_count": 14,
   "id": "0ddb238f-b722-49b0-8a51-9f6f0fcd2696",
   "metadata": {},
   "outputs": [
    {
     "ename": "ZeroDivisionError",
     "evalue": "float division by zero",
     "output_type": "error",
     "traceback": [
      "\u001b[0;31m---------------------------------------------------------------------------\u001b[0m",
      "\u001b[0;31mZeroDivisionError\u001b[0m                         Traceback (most recent call last)",
      "\u001b[0;32m/var/folders/cn/_8sc16pd7t1cj8_7hl57n7k80000gp/T/ipykernel_1884/3893613314.py\u001b[0m in \u001b[0;36m<module>\u001b[0;34m\u001b[0m\n\u001b[0;32m----> 1\u001b[0;31m \u001b[0msum_and_divide\u001b[0m\u001b[0;34m(\u001b[0m\u001b[0;36m1\u001b[0m\u001b[0;34m,\u001b[0m \u001b[0;36m2\u001b[0m\u001b[0;34m,\u001b[0m \u001b[0;36m0\u001b[0m\u001b[0;34m,\u001b[0m \u001b[0;36m4\u001b[0m\u001b[0;34m)\u001b[0m\u001b[0;34m\u001b[0m\u001b[0;34m\u001b[0m\u001b[0m\n\u001b[0m",
      "\u001b[0;32m/var/folders/cn/_8sc16pd7t1cj8_7hl57n7k80000gp/T/ipykernel_1884/3261254970.py\u001b[0m in \u001b[0;36msum_and_divide\u001b[0;34m(*args)\u001b[0m\n\u001b[1;32m      6\u001b[0m             \u001b[0;32mtry\u001b[0m\u001b[0;34m:\u001b[0m\u001b[0;34m\u001b[0m\u001b[0;34m\u001b[0m\u001b[0m\n\u001b[1;32m      7\u001b[0m                 \u001b[0mi\u001b[0m \u001b[0;34m+=\u001b[0m \u001b[0marg\u001b[0m\u001b[0;34m\u001b[0m\u001b[0;34m\u001b[0m\u001b[0m\n\u001b[0;32m----> 8\u001b[0;31m                 \u001b[0mi\u001b[0m \u001b[0;34m/=\u001b[0m \u001b[0marg\u001b[0m\u001b[0;34m\u001b[0m\u001b[0;34m\u001b[0m\u001b[0m\n\u001b[0m\u001b[1;32m      9\u001b[0m             \u001b[0;32mexcept\u001b[0m \u001b[0mTypeError\u001b[0m \u001b[0;32mas\u001b[0m \u001b[0me\u001b[0m\u001b[0;34m:\u001b[0m\u001b[0;34m\u001b[0m\u001b[0;34m\u001b[0m\u001b[0m\n\u001b[1;32m     10\u001b[0m                 \u001b[0mprint\u001b[0m\u001b[0;34m(\u001b[0m\u001b[0me\u001b[0m\u001b[0;34m)\u001b[0m\u001b[0;34m\u001b[0m\u001b[0;34m\u001b[0m\u001b[0m\n",
      "\u001b[0;31mZeroDivisionError\u001b[0m: float division by zero"
     ]
    }
   ],
   "source": [
    "sum_and_divide(1, 2, 0, 4)"
   ]
  },
  {
   "cell_type": "code",
   "execution_count": 15,
   "id": "073d295d-69c9-4c32-bfd2-8a545b2420ee",
   "metadata": {},
   "outputs": [],
   "source": [
    "def sum_and_divide(*args):\n",
    "    for arg in args:\n",
    "        if arg == args[0]:\n",
    "            i = arg\n",
    "        else:\n",
    "            try: \n",
    "                i += arg\n",
    "                i /= arg\n",
    "            except (TypeError, ZeroDivisionError) as e:\n",
    "                print(e)\n",
    "                return None\n",
    "    return i"
   ]
  },
  {
   "cell_type": "code",
   "execution_count": 16,
   "id": "06098410-4327-4c63-a90b-bf74173a4758",
   "metadata": {},
   "outputs": [
    {
     "name": "stdout",
     "output_type": "stream",
     "text": [
      "float division by zero\n"
     ]
    }
   ],
   "source": [
    "sum_and_divide(1, 2, 0, 4)"
   ]
  },
  {
   "cell_type": "markdown",
   "id": "8471301e-4bd6-418f-9415-da76ad7486fd",
   "metadata": {},
   "source": [
    "A final note about try/except blocks is you can add a `finally` statement at the end which _will always_ execute. This can be helpful for logging input that was passed for future analysis, for example."
   ]
  },
  {
   "cell_type": "code",
   "execution_count": 3,
   "id": "c35ace51-d572-4179-8b0f-070c148ca977",
   "metadata": {},
   "outputs": [
    {
     "name": "stdin",
     "output_type": "stream",
     "text": [
      "What is your age? hello\n"
     ]
    },
    {
     "name": "stdout",
     "output_type": "stream",
     "text": [
      "Please enter an integer\n",
      "User input a value.\n"
     ]
    },
    {
     "name": "stdin",
     "output_type": "stream",
     "text": [
      "What is your age? monkey\n"
     ]
    },
    {
     "name": "stdout",
     "output_type": "stream",
     "text": [
      "Please enter an integer\n",
      "User input a value.\n"
     ]
    },
    {
     "name": "stdin",
     "output_type": "stream",
     "text": [
      "What is your age? 8\n"
     ]
    },
    {
     "name": "stdout",
     "output_type": "stream",
     "text": [
      "You are 8 years old.\n",
      "Thank you!\n",
      "User input a value.\n"
     ]
    }
   ],
   "source": [
    "while True:\n",
    "    try:\n",
    "        age = int(input('What is your age?'))\n",
    "        print(f'You are {age} years old.')\n",
    "    except ValueError:\n",
    "        print('Please enter an integer')\n",
    "    else:\n",
    "        print('Thank you!')\n",
    "        break\n",
    "    finally:\n",
    "        print(f'User input a value.')"
   ]
  },
  {
   "cell_type": "code",
   "execution_count": null,
   "id": "cb85dda0-e6fa-4e2c-8d94-d762c4e6c616",
   "metadata": {},
   "outputs": [],
   "source": []
  }
 ],
 "metadata": {
  "kernelspec": {
   "display_name": "Python 3 (ipykernel)",
   "language": "python",
   "name": "python3"
  },
  "language_info": {
   "codemirror_mode": {
    "name": "ipython",
    "version": 3
   },
   "file_extension": ".py",
   "mimetype": "text/x-python",
   "name": "python",
   "nbconvert_exporter": "python",
   "pygments_lexer": "ipython3",
   "version": "3.9.7"
  }
 },
 "nbformat": 4,
 "nbformat_minor": 5
}
