{
 "cells": [
  {
   "cell_type": "markdown",
   "source": [
    "# Error Handling\n",
    "\n",
    "I've known about error handling (`try`/`except` blocks) for some time, but I _didn't_ know that `else` can join the party. For example, let's say we're trying to input the age of some user for our program. I could do this: "
   ],
   "metadata": {}
  },
  {
   "cell_type": "code",
   "execution_count": null,
   "source": [
    "while True:\n",
    "    try:\n",
    "        age = int(input('What is your age?'))\n",
    "        print(f'You are {age} years old.')\n",
    "    except ValueError:\n",
    "        print('Please enter an integer')"
   ],
   "outputs": [],
   "metadata": {}
  },
  {
   "cell_type": "markdown",
   "source": [
    "But this would run endlessly. Instead, I can break the while loop once I get a good value for `age` with this:"
   ],
   "metadata": {}
  },
  {
   "cell_type": "code",
   "execution_count": 2,
   "source": [
    "while True:\n",
    "    try:\n",
    "        age = int(input('What is your age?'))\n",
    "        print(f'You are {age} years old.')\n",
    "    except ValueError:\n",
    "        print('Please enter an integer')\n",
    "    else:\n",
    "        print('Thank you!')\n",
    "        break"
   ],
   "outputs": [
    {
     "output_type": "stream",
     "name": "stdout",
     "text": [
      "You are 35 years old.\n",
      "Thank you!\n"
     ]
    }
   ],
   "metadata": {}
  },
  {
   "cell_type": "markdown",
   "source": [
    "You can catch multiple types of errors in the same `except` block:"
   ],
   "metadata": {}
  },
  {
   "cell_type": "code",
   "execution_count": 3,
   "source": [
    "def sum_and_divide(*args):\n",
    "    for arg in args:\n",
    "        if arg == args[0]:\n",
    "            i = arg\n",
    "        else:\n",
    "            i += arg\n",
    "            i /= arg\n",
    "    return i\n",
    "\n",
    "sum_and_divide(1, 2, 3, 4)"
   ],
   "outputs": [
    {
     "output_type": "execute_result",
     "data": {
      "text/plain": [
       "1.375"
      ]
     },
     "metadata": {},
     "execution_count": 3
    }
   ],
   "metadata": {}
  },
  {
   "cell_type": "code",
   "execution_count": 9,
   "source": [
    "sum_and_divide(1, 2, 'help', 4)"
   ],
   "outputs": [
    {
     "output_type": "error",
     "ename": "TypeError",
     "evalue": "unsupported operand type(s) for +=: 'float' and 'str'",
     "traceback": [
      "\u001b[0;31m---------------------------------------------------------------------------\u001b[0m",
      "\u001b[0;31mTypeError\u001b[0m                                 Traceback (most recent call last)",
      "\u001b[0;32m/var/folders/cn/_8sc16pd7t1cj8_7hl57n7k80000gp/T/ipykernel_1884/2906475170.py\u001b[0m in \u001b[0;36m<module>\u001b[0;34m\u001b[0m\n\u001b[0;32m----> 1\u001b[0;31m \u001b[0msum_and_divide\u001b[0m\u001b[0;34m(\u001b[0m\u001b[0;36m1\u001b[0m\u001b[0;34m,\u001b[0m \u001b[0;36m2\u001b[0m\u001b[0;34m,\u001b[0m \u001b[0;34m'help'\u001b[0m\u001b[0;34m,\u001b[0m \u001b[0;36m4\u001b[0m\u001b[0;34m)\u001b[0m\u001b[0;34m\u001b[0m\u001b[0;34m\u001b[0m\u001b[0m\n\u001b[0m",
      "\u001b[0;32m/var/folders/cn/_8sc16pd7t1cj8_7hl57n7k80000gp/T/ipykernel_1884/2402421952.py\u001b[0m in \u001b[0;36msum_and_divide\u001b[0;34m(*args)\u001b[0m\n\u001b[1;32m      4\u001b[0m             \u001b[0mi\u001b[0m \u001b[0;34m=\u001b[0m \u001b[0marg\u001b[0m\u001b[0;34m\u001b[0m\u001b[0;34m\u001b[0m\u001b[0m\n\u001b[1;32m      5\u001b[0m         \u001b[0;32melse\u001b[0m\u001b[0;34m:\u001b[0m\u001b[0;34m\u001b[0m\u001b[0;34m\u001b[0m\u001b[0m\n\u001b[0;32m----> 6\u001b[0;31m             \u001b[0mi\u001b[0m \u001b[0;34m+=\u001b[0m \u001b[0marg\u001b[0m\u001b[0;34m\u001b[0m\u001b[0;34m\u001b[0m\u001b[0m\n\u001b[0m\u001b[1;32m      7\u001b[0m             \u001b[0mi\u001b[0m \u001b[0;34m/=\u001b[0m \u001b[0marg\u001b[0m\u001b[0;34m\u001b[0m\u001b[0;34m\u001b[0m\u001b[0m\n\u001b[1;32m      8\u001b[0m     \u001b[0;32mreturn\u001b[0m \u001b[0mi\u001b[0m\u001b[0;34m\u001b[0m\u001b[0;34m\u001b[0m\u001b[0m\n",
      "\u001b[0;31mTypeError\u001b[0m: unsupported operand type(s) for +=: 'float' and 'str'"
     ]
    }
   ],
   "metadata": {}
  },
  {
   "cell_type": "code",
   "execution_count": 12,
   "source": [
    "def sum_and_divide(*args):\n",
    "    for arg in args:\n",
    "        if arg == args[0]:\n",
    "            i = arg\n",
    "        else:\n",
    "            try: \n",
    "                i += arg\n",
    "                i /= arg\n",
    "            except TypeError as e:\n",
    "                print(e)\n",
    "                return None\n",
    "    return i"
   ],
   "outputs": [],
   "metadata": {}
  },
  {
   "cell_type": "code",
   "execution_count": 13,
   "source": [
    "sum_and_divide(1, 2, 'help', 4)"
   ],
   "outputs": [
    {
     "output_type": "stream",
     "name": "stdout",
     "text": [
      "unsupported operand type(s) for +=: 'float' and 'str'\n"
     ]
    }
   ],
   "metadata": {}
  },
  {
   "cell_type": "code",
   "execution_count": 14,
   "source": [
    "sum_and_divide(1, 2, 0, 4)"
   ],
   "outputs": [
    {
     "output_type": "error",
     "ename": "ZeroDivisionError",
     "evalue": "float division by zero",
     "traceback": [
      "\u001b[0;31m---------------------------------------------------------------------------\u001b[0m",
      "\u001b[0;31mZeroDivisionError\u001b[0m                         Traceback (most recent call last)",
      "\u001b[0;32m/var/folders/cn/_8sc16pd7t1cj8_7hl57n7k80000gp/T/ipykernel_1884/3893613314.py\u001b[0m in \u001b[0;36m<module>\u001b[0;34m\u001b[0m\n\u001b[0;32m----> 1\u001b[0;31m \u001b[0msum_and_divide\u001b[0m\u001b[0;34m(\u001b[0m\u001b[0;36m1\u001b[0m\u001b[0;34m,\u001b[0m \u001b[0;36m2\u001b[0m\u001b[0;34m,\u001b[0m \u001b[0;36m0\u001b[0m\u001b[0;34m,\u001b[0m \u001b[0;36m4\u001b[0m\u001b[0;34m)\u001b[0m\u001b[0;34m\u001b[0m\u001b[0;34m\u001b[0m\u001b[0m\n\u001b[0m",
      "\u001b[0;32m/var/folders/cn/_8sc16pd7t1cj8_7hl57n7k80000gp/T/ipykernel_1884/3261254970.py\u001b[0m in \u001b[0;36msum_and_divide\u001b[0;34m(*args)\u001b[0m\n\u001b[1;32m      6\u001b[0m             \u001b[0;32mtry\u001b[0m\u001b[0;34m:\u001b[0m\u001b[0;34m\u001b[0m\u001b[0;34m\u001b[0m\u001b[0m\n\u001b[1;32m      7\u001b[0m                 \u001b[0mi\u001b[0m \u001b[0;34m+=\u001b[0m \u001b[0marg\u001b[0m\u001b[0;34m\u001b[0m\u001b[0;34m\u001b[0m\u001b[0m\n\u001b[0;32m----> 8\u001b[0;31m                 \u001b[0mi\u001b[0m \u001b[0;34m/=\u001b[0m \u001b[0marg\u001b[0m\u001b[0;34m\u001b[0m\u001b[0;34m\u001b[0m\u001b[0m\n\u001b[0m\u001b[1;32m      9\u001b[0m             \u001b[0;32mexcept\u001b[0m \u001b[0mTypeError\u001b[0m \u001b[0;32mas\u001b[0m \u001b[0me\u001b[0m\u001b[0;34m:\u001b[0m\u001b[0;34m\u001b[0m\u001b[0;34m\u001b[0m\u001b[0m\n\u001b[1;32m     10\u001b[0m                 \u001b[0mprint\u001b[0m\u001b[0;34m(\u001b[0m\u001b[0me\u001b[0m\u001b[0;34m)\u001b[0m\u001b[0;34m\u001b[0m\u001b[0;34m\u001b[0m\u001b[0m\n",
      "\u001b[0;31mZeroDivisionError\u001b[0m: float division by zero"
     ]
    }
   ],
   "metadata": {}
  },
  {
   "cell_type": "code",
   "execution_count": 15,
   "source": [
    "def sum_and_divide(*args):\n",
    "    for arg in args:\n",
    "        if arg == args[0]:\n",
    "            i = arg\n",
    "        else:\n",
    "            try: \n",
    "                i += arg\n",
    "                i /= arg\n",
    "            except (TypeError, ZeroDivisionError) as e:\n",
    "                print(e)\n",
    "                return None\n",
    "    return i"
   ],
   "outputs": [],
   "metadata": {}
  },
  {
   "cell_type": "code",
   "execution_count": 16,
   "source": [
    "sum_and_divide(1, 2, 0, 4)"
   ],
   "outputs": [
    {
     "output_type": "stream",
     "name": "stdout",
     "text": [
      "float division by zero\n"
     ]
    }
   ],
   "metadata": {}
  },
  {
   "cell_type": "markdown",
   "source": [
    "A final note about try/except blocks is you can add a `finally` statement at the end which _will always_ execute. This can be helpful for logging input that was passed for future analysis, for example."
   ],
   "metadata": {}
  },
  {
   "cell_type": "code",
   "execution_count": 3,
   "source": [
    "while True:\n",
    "    try:\n",
    "        age = int(input('What is your age?'))\n",
    "        print(f'You are {age} years old.')\n",
    "    except ValueError:\n",
    "        print('Please enter an integer')\n",
    "    else:\n",
    "        print('Thank you!')\n",
    "        break\n",
    "    finally:\n",
    "        print(f'User input a value.')"
   ],
   "outputs": [
    {
     "output_type": "stream",
     "name": "stdout",
     "text": [
      "What is your age? hello\n"
     ]
    },
    {
     "output_type": "stream",
     "name": "stdout",
     "text": [
      "Please enter an integer\n",
      "User input a value.\n"
     ]
    },
    {
     "output_type": "stream",
     "name": "stdout",
     "text": [
      "What is your age? monkey\n"
     ]
    },
    {
     "output_type": "stream",
     "name": "stdout",
     "text": [
      "Please enter an integer\n",
      "User input a value.\n"
     ]
    },
    {
     "output_type": "stream",
     "name": "stdout",
     "text": [
      "What is your age? 8\n"
     ]
    },
    {
     "output_type": "stream",
     "name": "stdout",
     "text": [
      "You are 8 years old.\n",
      "Thank you!\n",
      "User input a value.\n"
     ]
    }
   ],
   "metadata": {}
  },
  {
   "cell_type": "code",
   "execution_count": null,
   "source": [],
   "outputs": [],
   "metadata": {}
  }
 ],
 "metadata": {
  "kernelspec": {
   "name": "python3",
   "display_name": "Python 3.9.7 64-bit"
  },
  "language_info": {
   "codemirror_mode": {
    "name": "ipython",
    "version": 3
   },
   "file_extension": ".py",
   "mimetype": "text/x-python",
   "name": "python",
   "nbconvert_exporter": "python",
   "pygments_lexer": "ipython3",
   "version": "3.9.7"
  },
  "interpreter": {
   "hash": "397704579725e15f5c7cb49fe5f0341eb7531c82d19f2c29d197e8b64ab5776b"
  }
 },
 "nbformat": 4,
 "nbformat_minor": 5
}