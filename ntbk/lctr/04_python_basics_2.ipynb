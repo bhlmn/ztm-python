{
 "cells": [
  {
   "cell_type": "markdown",
   "id": "a322bfa1-f138-4ee8-b8e5-ffdcc83ecfba",
   "metadata": {},
   "source": [
    "# Python Basics 2"
   ]
  },
  {
   "cell_type": "markdown",
   "id": "ac0af0f1-8405-4dc8-ab32-29f1e1385908",
   "metadata": {
    "tags": []
   },
   "source": [
    "### `is` vs. `==`\n",
    "\n",
    "The `==` operator checks for equality in value. Below is `True` because 1 is truthy, which is equal to a boolean value."
   ]
  },
  {
   "cell_type": "code",
   "execution_count": 10,
   "id": "b802ab25-0e09-4c6e-864c-74b916cb6c1f",
   "metadata": {},
   "outputs": [
    {
     "data": {
      "text/plain": [
       "True"
      ]
     },
     "execution_count": 10,
     "metadata": {},
     "output_type": "execute_result"
    }
   ],
   "source": [
    "print(True == 1)"
   ]
  },
  {
   "cell_type": "markdown",
   "id": "5f8315fc-98b9-4d23-9de7-044ef9876d40",
   "metadata": {},
   "source": [
    "The `is` keyword is different. It checks if values point to the same object (same memory location)."
   ]
  },
  {
   "cell_type": "code",
   "execution_count": 13,
   "id": "e0a1a309-120e-4ed5-b2f2-bbd7447e28a0",
   "metadata": {},
   "outputs": [
    {
     "name": "stdout",
     "output_type": "stream",
     "text": [
      "False\n"
     ]
    },
    {
     "name": "stderr",
     "output_type": "stream",
     "text": [
      "<>:1: SyntaxWarning: \"is\" with a literal. Did you mean \"==\"?\n",
      "<>:1: SyntaxWarning: \"is\" with a literal. Did you mean \"==\"?\n",
      "/var/folders/cn/_8sc16pd7t1cj8_7hl57n7k80000gp/T/ipykernel_14739/1728233177.py:1: SyntaxWarning: \"is\" with a literal. Did you mean \"==\"?\n",
      "  print(True is 1)\n"
     ]
    }
   ],
   "source": [
    "print(True is 1)"
   ]
  },
  {
   "cell_type": "code",
   "execution_count": 14,
   "id": "1bc62f15-a6c0-4302-a8b1-667e73675987",
   "metadata": {},
   "outputs": [
    {
     "data": {
      "text/plain": [
       "True"
      ]
     },
     "execution_count": 14,
     "metadata": {},
     "output_type": "execute_result"
    }
   ],
   "source": [
    "a = [1, 2, 3]\n",
    "b = a\n",
    "a is b"
   ]
  },
  {
   "cell_type": "markdown",
   "id": "b5cf6684-9584-4805-b703-ac2df6588716",
   "metadata": {},
   "source": [
    "### Iterating over dictionaries"
   ]
  },
  {
   "cell_type": "code",
   "execution_count": 1,
   "id": "361ceff0-a313-4203-a188-d82a64f4eb2a",
   "metadata": {},
   "outputs": [],
   "source": [
    "team = {\n",
    "    'name': 'Chelsea', \n",
    "    'location': {\n",
    "        'city': 'London', \n",
    "        'country': 'England'\n",
    "    }, \n",
    "    'founded': 1905, \n",
    "    'ground': 'Stamford Bridge', \n",
    "    'head_coach': 'Thomas Tuchel', \n",
    "    'league': 'Premier League'\n",
    "}"
   ]
  },
  {
   "cell_type": "markdown",
   "id": "85076b12-f973-4b97-a4fb-f740f62aedaa",
   "metadata": {},
   "source": [
    "Iterate over keys in the dictionary:"
   ]
  },
  {
   "cell_type": "code",
   "execution_count": 8,
   "id": "6c993567-3ae2-4dbe-a8ee-6b04bc489eeb",
   "metadata": {},
   "outputs": [
    {
     "name": "stdout",
     "output_type": "stream",
     "text": [
      "name\n",
      "location\n",
      "founded\n",
      "ground\n",
      "head_coach\n",
      "league\n"
     ]
    }
   ],
   "source": [
    "for key in team.keys():\n",
    "    print(key)"
   ]
  },
  {
   "cell_type": "markdown",
   "id": "151bade1-0cc3-40e7-8f49-662549644826",
   "metadata": {},
   "source": [
    "Iterate over key/value pairs:"
   ]
  },
  {
   "cell_type": "code",
   "execution_count": 11,
   "id": "7797c1aa-d19d-4ac2-8208-cd603c0cb2a6",
   "metadata": {},
   "outputs": [
    {
     "name": "stdout",
     "output_type": "stream",
     "text": [
      "name: Chelsea\n",
      "location: {'city': 'London', 'country': 'England'}\n",
      "founded: 1905\n",
      "ground: Stamford Bridge\n",
      "head_coach: Thomas Tuchel\n",
      "league: Premier League\n"
     ]
    }
   ],
   "source": [
    "for key, value in team.items():\n",
    "    print(f'{key}:', value)"
   ]
  },
  {
   "cell_type": "markdown",
   "id": "b0f0257a-c4cd-4a07-bfd7-dd88379d10df",
   "metadata": {},
   "source": [
    "Iterate over values:"
   ]
  },
  {
   "cell_type": "code",
   "execution_count": 10,
   "id": "021e5173-a7d2-477a-ae31-49f9a90dbf22",
   "metadata": {},
   "outputs": [
    {
     "name": "stdout",
     "output_type": "stream",
     "text": [
      "Chelsea\n",
      "{'city': 'London', 'country': 'England'}\n",
      "1905\n",
      "Stamford Bridge\n",
      "Thomas Tuchel\n",
      "Premier League\n"
     ]
    }
   ],
   "source": [
    "for value in team.values():\n",
    "    print(value)"
   ]
  },
  {
   "cell_type": "code",
   "execution_count": null,
   "id": "bb50acb1-ee76-4aa0-93e8-67d9106b9aac",
   "metadata": {},
   "outputs": [],
   "source": []
  }
 ],
 "metadata": {
  "kernelspec": {
   "display_name": "Python 3 (ipykernel)",
   "language": "python",
   "name": "python3"
  },
  "language_info": {
   "codemirror_mode": {
    "name": "ipython",
    "version": 3
   },
   "file_extension": ".py",
   "mimetype": "text/x-python",
   "name": "python",
   "nbconvert_exporter": "python",
   "pygments_lexer": "ipython3",
   "version": "3.9.7"
  }
 },
 "nbformat": 4,
 "nbformat_minor": 5
}
