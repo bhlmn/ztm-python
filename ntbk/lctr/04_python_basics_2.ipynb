{
 "cells": [
  {
   "cell_type": "markdown",
   "id": "a322bfa1-f138-4ee8-b8e5-ffdcc83ecfba",
   "metadata": {},
   "source": [
    "# Python Basics 2"
   ]
  },
  {
   "cell_type": "markdown",
   "id": "ac0af0f1-8405-4dc8-ab32-29f1e1385908",
   "metadata": {
    "tags": []
   },
   "source": [
    "### `is` vs. `==`\n",
    "\n",
    "The `==` operator checks for equality in value. Below is `True` because 1 is truthy, which is equal to a boolean value."
   ]
  },
  {
   "cell_type": "code",
   "execution_count": 10,
   "id": "b802ab25-0e09-4c6e-864c-74b916cb6c1f",
   "metadata": {},
   "outputs": [
    {
     "data": {
      "text/plain": [
       "True"
      ]
     },
     "execution_count": 10,
     "metadata": {},
     "output_type": "execute_result"
    }
   ],
   "source": [
    "print(True == 1)"
   ]
  },
  {
   "cell_type": "markdown",
   "id": "5f8315fc-98b9-4d23-9de7-044ef9876d40",
   "metadata": {},
   "source": [
    "The `is` keyword is different. It checks if values point to the same object (same memory location)."
   ]
  },
  {
   "cell_type": "code",
   "execution_count": 13,
   "id": "e0a1a309-120e-4ed5-b2f2-bbd7447e28a0",
   "metadata": {},
   "outputs": [
    {
     "name": "stdout",
     "output_type": "stream",
     "text": [
      "False\n"
     ]
    },
    {
     "name": "stderr",
     "output_type": "stream",
     "text": [
      "<>:1: SyntaxWarning: \"is\" with a literal. Did you mean \"==\"?\n",
      "<>:1: SyntaxWarning: \"is\" with a literal. Did you mean \"==\"?\n",
      "/var/folders/cn/_8sc16pd7t1cj8_7hl57n7k80000gp/T/ipykernel_14739/1728233177.py:1: SyntaxWarning: \"is\" with a literal. Did you mean \"==\"?\n",
      "  print(True is 1)\n"
     ]
    }
   ],
   "source": [
    "print(True is 1)"
   ]
  },
  {
   "cell_type": "code",
   "execution_count": 14,
   "id": "1bc62f15-a6c0-4302-a8b1-667e73675987",
   "metadata": {},
   "outputs": [
    {
     "data": {
      "text/plain": [
       "True"
      ]
     },
     "execution_count": 14,
     "metadata": {},
     "output_type": "execute_result"
    }
   ],
   "source": [
    "a = [1, 2, 3]\n",
    "b = a\n",
    "a is b"
   ]
  },
  {
   "cell_type": "code",
   "execution_count": null,
   "id": "3d1b4dbe-0230-4c19-a07b-5a0232630fdd",
   "metadata": {},
   "outputs": [],
   "source": []
  }
 ],
 "metadata": {
  "kernelspec": {
   "display_name": "Python 3 (ipykernel)",
   "language": "python",
   "name": "python3"
  },
  "language_info": {
   "codemirror_mode": {
    "name": "ipython",
    "version": 3
   },
   "file_extension": ".py",
   "mimetype": "text/x-python",
   "name": "python",
   "nbconvert_exporter": "python",
   "pygments_lexer": "ipython3",
   "version": "3.9.7"
  }
 },
 "nbformat": 4,
 "nbformat_minor": 5
}
