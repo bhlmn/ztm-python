{
 "cells": [
  {
   "cell_type": "markdown",
   "id": "158fa57e-ea60-4c6b-9e2b-26a496a69b17",
   "metadata": {},
   "source": [
    "# Functional Programming\n",
    "\n",
    "A paradigm for organizing code (just like OOP). Data and functions are separate.\n",
    "\n",
    "## Pure Functions\n",
    "* Given the same input, expect the same output\n",
    "* No side effects. The function does not impact anything outside the function (including using a print statement).\n",
    "\n",
    "Benefits of pure functions:\n",
    "* Easier to test code\n",
    "* Less likely to be buggy\n",
    "\n",
    "Pure functions are a good guideline (not all functions can be pure), great to aspire to!\n",
    "\n",
    "Helpful functions:\n",
    "\n",
    "## `map()`\n",
    "\n",
    "Apply a function to each element in an iterable object without modifying the iterable itself. In the example below we have a list of positive and negative numbers, and we can use the `map()` function to return a list of the absolute value of each function."
   ]
  },
  {
   "cell_type": "code",
   "execution_count": 1,
   "id": "21397de1-ed24-4071-b808-8cafed363c08",
   "metadata": {},
   "outputs": [
    {
     "data": {
      "text/plain": [
       "[1, 2, 3, 4, 5]"
      ]
     },
     "execution_count": 1,
     "metadata": {},
     "output_type": "execute_result"
    }
   ],
   "source": [
    "li = [-1, 2, -3, 4, -5]\n",
    "list(map(abs, li))"
   ]
  },
  {
   "cell_type": "markdown",
   "id": "24922539-deec-4787-863c-02de13ebe2c3",
   "metadata": {},
   "source": [
    "For functions that take multiple arguments (like `pow()`), we need to pass two iterables. The length of what `map()` will return which match the length of the shorter iterable."
   ]
  },
  {
   "cell_type": "code",
   "execution_count": 2,
   "id": "da81a331-975b-4145-ad5a-5ebc2debe436",
   "metadata": {},
   "outputs": [
    {
     "data": {
      "text/plain": [
       "[1, 16, 27, 16]"
      ]
     },
     "execution_count": 2,
     "metadata": {},
     "output_type": "execute_result"
    }
   ],
   "source": [
    "list(map(pow, [1, 2, 3, 4, 5], [5, 4, 3, 2]))"
   ]
  },
  {
   "cell_type": "markdown",
   "id": "3cf75819-494b-4feb-8571-5234d6ecdbf0",
   "metadata": {},
   "source": [
    "## `filter()`\n",
    "\n",
    "Filter aslo takes a function and an iterable, but will only output elements where the output of that function given each element is `True`. For example, if we wanted to grab a list of the elements in `li` that are positive:"
   ]
  },
  {
   "cell_type": "code",
   "execution_count": 3,
   "id": "1de3a715-95ed-4513-a066-ea963c77a796",
   "metadata": {},
   "outputs": [
    {
     "data": {
      "text/plain": [
       "[2, 4]"
      ]
     },
     "execution_count": 3,
     "metadata": {},
     "output_type": "execute_result"
    }
   ],
   "source": [
    "list(filter(lambda x: x >= 0, li))"
   ]
  },
  {
   "cell_type": "markdown",
   "id": "add9aa42-858d-4710-a595-765b0c6e2eaa",
   "metadata": {},
   "source": [
    "## `zip()`\n",
    "\n",
    "`zip()` combines elements of iterables into a tuple."
   ]
  },
  {
   "cell_type": "code",
   "execution_count": 4,
   "id": "9c271f48-738f-42ed-8bbd-067ddd305ca1",
   "metadata": {},
   "outputs": [
    {
     "data": {
      "text/plain": [
       "[(-1, 1), (2, 2), (-3, 3), (4, 4), (-5, 5)]"
      ]
     },
     "execution_count": 4,
     "metadata": {},
     "output_type": "execute_result"
    }
   ],
   "source": [
    "list(zip(li, map(abs, li)))"
   ]
  },
  {
   "cell_type": "markdown",
   "id": "40123c37-bc4d-4a4b-a330-fbc8276650ca",
   "metadata": {},
   "source": [
    "## `reduce()`\n",
    "\n",
    "Given an initial value, `reduce()` iterates through an iterable object, calling a function than manipulates that initial value given the first element in the iterable. The output of that function becomes the new value to be manipulated given the second element in the iterable, and so on.\n",
    "\n",
    "In the example below we can sum all the numbers 1 through 100."
   ]
  },
  {
   "cell_type": "code",
   "execution_count": 14,
   "id": "0e7872d8-05f5-4e12-860d-eb2836702ef2",
   "metadata": {},
   "outputs": [
    {
     "data": {
      "text/plain": [
       "5050"
      ]
     },
     "execution_count": 14,
     "metadata": {},
     "output_type": "execute_result"
    }
   ],
   "source": [
    "from functools import reduce\n",
    "\n",
    "def accumulator(acc, initial):\n",
    "    # print(initial, acc)\n",
    "    return acc + initial\n",
    "\n",
    "reduce(accumulator, list(range(1, 101)), 0)"
   ]
  },
  {
   "cell_type": "code",
   "execution_count": 13,
   "id": "89460108-2d6b-41b9-b28c-bd3be0c88dae",
   "metadata": {},
   "outputs": [
    {
     "data": {
      "text/plain": [
       "5050"
      ]
     },
     "execution_count": 13,
     "metadata": {},
     "output_type": "execute_result"
    }
   ],
   "source": [
    "sum(list(range(1, 101)))"
   ]
  },
  {
   "cell_type": "markdown",
   "id": "fae155a9-421a-4368-9339-b7834db2674f",
   "metadata": {},
   "source": [
    "## Lambda Expressions\n",
    "\n",
    "One-time, anonymous functions. No need to define the function and store it in memory.\n",
    "\n",
    "For example, instead of:"
   ]
  },
  {
   "cell_type": "code",
   "execution_count": 15,
   "id": "f3252611-7b0d-457c-9222-0f7553fad9c1",
   "metadata": {},
   "outputs": [
    {
     "data": {
      "text/plain": [
       "5050"
      ]
     },
     "execution_count": 15,
     "metadata": {},
     "output_type": "execute_result"
    }
   ],
   "source": [
    "def accumulator(acc, initial):\n",
    "    return acc + initial\n",
    "\n",
    "reduce(accumulator, range(1, 101))"
   ]
  },
  {
   "cell_type": "markdown",
   "id": "de48ca4e-33c4-40d8-84bc-0a1bd358ce99",
   "metadata": {},
   "source": [
    "We can just do this!"
   ]
  },
  {
   "cell_type": "code",
   "execution_count": 16,
   "id": "3db52c3f-be17-456a-bd2c-62a8b7ce968a",
   "metadata": {},
   "outputs": [
    {
     "data": {
      "text/plain": [
       "5050"
      ]
     },
     "execution_count": 16,
     "metadata": {},
     "output_type": "execute_result"
    }
   ],
   "source": [
    "reduce(lambda x, y: x + y, range(1, 101))"
   ]
  },
  {
   "cell_type": "markdown",
   "id": "e902efa2-218b-4970-95be-e943dd823118",
   "metadata": {},
   "source": [
    "One powerful use of lambda expressions is the ability to modify sorting. For example, we can sort a list of tuples based on the second element in that tuple:"
   ]
  },
  {
   "cell_type": "code",
   "execution_count": 17,
   "id": "e3a193d1-dac3-476b-81eb-cc80315fdc72",
   "metadata": {},
   "outputs": [
    {
     "name": "stdout",
     "output_type": "stream",
     "text": [
      "[(10, -1), (0, 2), (4, 3), (9, 9)]\n"
     ]
    }
   ],
   "source": [
    "my_tuple = [(0, 2), (4, 3), (9, 9), (10, -1)]\n",
    "my_tuple.sort(key=lambda x: x[1])\n",
    "print(my_tuple)"
   ]
  },
  {
   "cell_type": "markdown",
   "id": "cc2f621b-93df-4369-b860-cc479a80508c",
   "metadata": {},
   "source": [
    "## List, Set, and Dictionary Comprehensions\n",
    "\n",
    "Something unique but super awesome to Python! I already knew that you could do the following:"
   ]
  },
  {
   "cell_type": "code",
   "execution_count": 20,
   "id": "cad6bba8-9eb9-4312-88c3-dedec49c14bf",
   "metadata": {},
   "outputs": [
    {
     "name": "stdout",
     "output_type": "stream",
     "text": [
      "[0, 1, 4, 9, 16, 25, 36, 49, 64, 81, 100, 121, 144, 169, 196, 225, 256, 289, 324, 361, 400, 441, 484, 529, 576, 625, 676, 729, 784, 841, 900, 961, 1024, 1089, 1156, 1225, 1296, 1369, 1444, 1521, 1600, 1681, 1764, 1849, 1936, 2025, 2116, 2209, 2304, 2401, 2500, 2601, 2704, 2809, 2916, 3025, 3136, 3249, 3364, 3481, 3600, 3721, 3844, 3969, 4096, 4225, 4356, 4489, 4624, 4761, 4900, 5041, 5184, 5329, 5476, 5625, 5776, 5929, 6084, 6241, 6400, 6561, 6724, 6889, 7056, 7225, 7396, 7569, 7744, 7921, 8100, 8281, 8464, 8649, 8836, 9025, 9216, 9409, 9604, 9801, 10000]\n"
     ]
    }
   ],
   "source": [
    "print([pow(i, 2) for i in range(101)])"
   ]
  },
  {
   "cell_type": "markdown",
   "id": "3cb5478a-5cbc-47e5-9219-24224b42b4e2",
   "metadata": {},
   "source": [
    "But what I didn't know is you could also apply a conditional to this! For example, we can retain only the even values from the above."
   ]
  },
  {
   "cell_type": "code",
   "execution_count": 21,
   "id": "b7086ab5-e3ea-4028-87a5-61c0754facda",
   "metadata": {},
   "outputs": [
    {
     "name": "stdout",
     "output_type": "stream",
     "text": [
      "[0, 4, 16, 36, 64, 100, 144, 196, 256, 324, 400, 484, 576, 676, 784, 900, 1024, 1156, 1296, 1444, 1600, 1764, 1936, 2116, 2304, 2500, 2704, 2916, 3136, 3364, 3600, 3844, 4096, 4356, 4624, 4900, 5184, 5476, 5776, 6084, 6400, 6724, 7056, 7396, 7744, 8100, 8464, 8836, 9216, 9604, 10000]\n"
     ]
    }
   ],
   "source": [
    "print([pow(i, 2) for i in range(101) if pow(i, 2) % 2 == 0])"
   ]
  },
  {
   "cell_type": "markdown",
   "id": "db523bc2-5b0a-4a9a-8fd1-267aa04385b1",
   "metadata": {},
   "source": [
    "Also works for sets and dictionaries!"
   ]
  },
  {
   "cell_type": "code",
   "execution_count": 2,
   "id": "a38cfa93-511a-4e29-924b-600b1f79f0c8",
   "metadata": {},
   "outputs": [
    {
     "data": {
      "text/plain": [
       "{2, 4, 6, 8, 10, 12}"
      ]
     },
     "execution_count": 2,
     "metadata": {},
     "output_type": "execute_result"
    }
   ],
   "source": [
    "my_set = {1, 2, 3, 4, 5, 6, 4, 5, 6}\n",
    "{i * 2 for i in my_set}"
   ]
  },
  {
   "cell_type": "code",
   "execution_count": 3,
   "id": "090c0afe-a19e-49cc-a225-fbebafd00152",
   "metadata": {},
   "outputs": [
    {
     "data": {
      "text/plain": [
       "{'a': 4, 'b': 16, 'c': 36}"
      ]
     },
     "execution_count": 3,
     "metadata": {},
     "output_type": "execute_result"
    }
   ],
   "source": [
    "my_dict = {\n",
    "    'a': 2, \n",
    "    'b': 4, \n",
    "    'c': 6\n",
    "}\n",
    "{k: pow(v, 2) for k, v in my_dict.items()}"
   ]
  },
  {
   "cell_type": "markdown",
   "id": "325630e1-a512-4bbc-9313-04411bc34fa9",
   "metadata": {},
   "source": [
    "You can also create a dictionary by iterating over a list, and create a list by iterating over a dictionary:"
   ]
  },
  {
   "cell_type": "code",
   "execution_count": 5,
   "id": "4012c1ec-d702-4492-98d0-d17e77d4d314",
   "metadata": {},
   "outputs": [
    {
     "data": {
      "text/plain": [
       "{'1': 1, '2': 4, '3': 9, '4': 16, '5': 25}"
      ]
     },
     "execution_count": 5,
     "metadata": {},
     "output_type": "execute_result"
    }
   ],
   "source": [
    "my_list = [1, 2, 3, 4, 5]\n",
    "{f'{i}': pow(i, 2) for i in my_list}"
   ]
  },
  {
   "cell_type": "code",
   "execution_count": 6,
   "id": "dad8861c-24f4-46d7-ba8c-c8c7a67cf20a",
   "metadata": {},
   "outputs": [
    {
     "data": {
      "text/plain": [
       "[2, 4, 6]"
      ]
     },
     "execution_count": 6,
     "metadata": {},
     "output_type": "execute_result"
    }
   ],
   "source": [
    "[i for _, i in my_dict.items()]"
   ]
  },
  {
   "cell_type": "code",
   "execution_count": null,
   "id": "9bfab1c7-4796-48ce-ac12-8cdd561f2f72",
   "metadata": {},
   "outputs": [],
   "source": []
  }
 ],
 "metadata": {
  "kernelspec": {
   "display_name": "Python 3 (ipykernel)",
   "language": "python",
   "name": "python3"
  },
  "language_info": {
   "codemirror_mode": {
    "name": "ipython",
    "version": 3
   },
   "file_extension": ".py",
   "mimetype": "text/x-python",
   "name": "python",
   "nbconvert_exporter": "python",
   "pygments_lexer": "ipython3",
   "version": "3.9.7"
  }
 },
 "nbformat": 4,
 "nbformat_minor": 5
}
