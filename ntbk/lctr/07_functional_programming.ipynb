{
 "cells": [
  {
   "cell_type": "markdown",
   "id": "158fa57e-ea60-4c6b-9e2b-26a496a69b17",
   "metadata": {},
   "source": [
    "# Functional Programming\n",
    "\n",
    "A paradigm for organizing code (just like OOP). Data and functions are separate.\n",
    "\n",
    "## Pure Functions\n",
    "* Given the same input, expect the same output\n",
    "* No side effects. The function does not impact anything outside the function (including using a print statement).\n",
    "\n",
    "Benefits of pure functions:\n",
    "* Easier to test code\n",
    "* Less likely to be buggy\n",
    "\n",
    "Pure functions are a good guideline (not all functions can be pure), great to aspire to!\n",
    "\n",
    "Helpful functions:\n",
    "\n",
    "## `map()`\n",
    "\n",
    "Apply a function to each element in an iterable object without modifying the iterable itself. In the example below we have a list of positive and negative numbers, and we can use the `map()` function to return a list of the absolute value of each function."
   ]
  },
  {
   "cell_type": "code",
   "execution_count": 3,
   "id": "21397de1-ed24-4071-b808-8cafed363c08",
   "metadata": {},
   "outputs": [
    {
     "data": {
      "text/plain": [
       "[1, 2, 3, 4, 5]"
      ]
     },
     "execution_count": 3,
     "metadata": {},
     "output_type": "execute_result"
    }
   ],
   "source": [
    "li = [-1, 2, -3, 4, -5]\n",
    "list(map(abs, li))"
   ]
  },
  {
   "cell_type": "markdown",
   "id": "24922539-deec-4787-863c-02de13ebe2c3",
   "metadata": {},
   "source": [
    "For functions that take multiple arguments (like `pow()`), we need to pass two iterables. The length of what `map()` will return which match the length of the shorter iterable."
   ]
  },
  {
   "cell_type": "code",
   "execution_count": 4,
   "id": "da81a331-975b-4145-ad5a-5ebc2debe436",
   "metadata": {},
   "outputs": [
    {
     "data": {
      "text/plain": [
       "[1, 16, 27, 16]"
      ]
     },
     "execution_count": 4,
     "metadata": {},
     "output_type": "execute_result"
    }
   ],
   "source": [
    "list(map(pow, [1, 2, 3, 4, 5], [5, 4, 3, 2]))"
   ]
  },
  {
   "cell_type": "markdown",
   "id": "3cf75819-494b-4feb-8571-5234d6ecdbf0",
   "metadata": {},
   "source": [
    "## `filter()`\n",
    "\n",
    "Filter aslo takes a function and an iterable, but will only output elements where the output of that function given each element is `True`. For example, if we wanted to grab a list of the elements in `li` that are positive:"
   ]
  },
  {
   "cell_type": "code",
   "execution_count": 6,
   "id": "1de3a715-95ed-4513-a066-ea963c77a796",
   "metadata": {},
   "outputs": [
    {
     "data": {
      "text/plain": [
       "[2, 4]"
      ]
     },
     "execution_count": 6,
     "metadata": {},
     "output_type": "execute_result"
    }
   ],
   "source": [
    "list(filter(lambda x: x >= 0, li))"
   ]
  },
  {
   "cell_type": "markdown",
   "id": "add9aa42-858d-4710-a595-765b0c6e2eaa",
   "metadata": {},
   "source": [
    "## `zip()`\n",
    "\n",
    "`zip()` combines elements of iterables into a tuple."
   ]
  },
  {
   "cell_type": "code",
   "execution_count": 10,
   "id": "9c271f48-738f-42ed-8bbd-067ddd305ca1",
   "metadata": {},
   "outputs": [
    {
     "data": {
      "text/plain": [
       "[(-1, 1), (2, 2), (-3, 3), (4, 4), (-5, 5)]"
      ]
     },
     "execution_count": 10,
     "metadata": {},
     "output_type": "execute_result"
    }
   ],
   "source": [
    "list(zip(li, map(abs, li)))"
   ]
  },
  {
   "cell_type": "code",
   "execution_count": null,
   "id": "476c1187-db0f-4cbd-b0d4-ecd800710986",
   "metadata": {},
   "outputs": [],
   "source": []
  }
 ],
 "metadata": {
  "kernelspec": {
   "display_name": "Python 3 (ipykernel)",
   "language": "python",
   "name": "python3"
  },
  "language_info": {
   "codemirror_mode": {
    "name": "ipython",
    "version": 3
   },
   "file_extension": ".py",
   "mimetype": "text/x-python",
   "name": "python",
   "nbconvert_exporter": "python",
   "pygments_lexer": "ipython3",
   "version": "3.9.7"
  }
 },
 "nbformat": 4,
 "nbformat_minor": 5
}
