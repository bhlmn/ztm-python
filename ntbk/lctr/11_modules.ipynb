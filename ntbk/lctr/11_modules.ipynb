{
 "cells": [
  {
   "cell_type": "markdown",
   "source": [
    "# Modules\n",
    "\n",
    "A module is a `.py` file, and a package is a folder (collection) of modules.\n",
    "\n",
    "If the python interpreter sees a folder with an `__init__.py` file, it will recognize that folder as a package."
   ],
   "metadata": {}
  },
  {
   "cell_type": "markdown",
   "source": [
    "[Python module index](https://docs.python.org/3/py-modindex.html)."
   ],
   "metadata": {}
  },
  {
   "cell_type": "markdown",
   "source": [
    "## Useful built-in modules:\n",
    "* `collections`: `Counter()`, `defaultdict()`, and `OrderedDict()`.\n",
    "* `datetime`\n",
    "* `time`\n",
    "* `array`: `array()` --> more performant than lists."
   ],
   "metadata": {}
  }
 ],
 "metadata": {
  "orig_nbformat": 4,
  "language_info": {
   "name": "python"
  }
 },
 "nbformat": 4,
 "nbformat_minor": 2
}