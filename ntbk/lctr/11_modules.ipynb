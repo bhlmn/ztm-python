{
 "cells": [
  {
   "cell_type": "markdown",
   "source": [
    "# Modules\n",
    "\n",
    "A module is a `.py` file, and a package is a folder (collection) of modules.\n",
    "\n",
    "If the python interpreter sees a folder with an `__init__.py` file, it will recognize that folder as a package."
   ],
   "metadata": {}
  },
  {
   "cell_type": "markdown",
   "source": [],
   "metadata": {}
  }
 ],
 "metadata": {
  "orig_nbformat": 4,
  "language_info": {
   "name": "python"
  }
 },
 "nbformat": 4,
 "nbformat_minor": 2
}